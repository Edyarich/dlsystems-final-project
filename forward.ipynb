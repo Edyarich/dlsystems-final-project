{
 "cells": [
  {
   "cell_type": "code",
   "execution_count": 59,
   "id": "7f9fa504",
   "metadata": {},
   "outputs": [],
   "source": [
    "import sys\n",
    "import torch\n",
    "sys.path.append('./python')"
   ]
  },
  {
   "cell_type": "code",
   "execution_count": 60,
   "id": "49106f9b",
   "metadata": {},
   "outputs": [],
   "source": [
    "import needle as ndl\n",
    "from needle import array_api"
   ]
  },
  {
   "cell_type": "code",
   "execution_count": 61,
   "id": "3567473a",
   "metadata": {},
   "outputs": [],
   "source": [
    "def linear_beta_schedule(timesteps, start=0.0001, end=0.02):\n",
    "    return array_api.linspace(start, end, timesteps)"
   ]
  },
  {
   "cell_type": "code",
   "execution_count": 62,
   "id": "5bb3d43b",
   "metadata": {},
   "outputs": [],
   "source": [
    "def forward_diffusion_sample(x_0, t, device=\"cpu\"):\n",
    "    shape = x_0.shape\n",
    "    noise = ndl.NDArray(toch.randn_like(x_0).numpy())\n",
    "    sqrt_alphas_cumprod_t = sqrt_alphas_cumprod[t].broadcast_to(shape)\n",
    "    sqrt_one_minus_alphas_cumprod_t = sqrt_one_minus_alphas_cumprod[t].broadcast_to(shape)\n",
    "    \n",
    "    return sqrt_alphas_cumprod_t.to(device) * x_0.to(device) \\\n",
    "    + sqrt_one_minus_alphas_cumprod_t.to(device) * noise.to(device), noise.to(device)"
   ]
  },
  {
   "cell_type": "code",
   "execution_count": 17,
   "id": "664490d8",
   "metadata": {},
   "outputs": [],
   "source": [
    "T = 300\n",
    "betas = linear_beta_schedule(timesteps=T)\n",
    "\n",
    "# Pre-calculate different terms for closed form\n",
    "alphas = 1. - betas\n",
    "alphas_cumprod = array_api.cumprod(alphas, axis=0)\n",
    "alphas_cumprod_prev = array_api.pad(alphas_cumprod[:-1], (1, 0))\n",
    "alphas_cumprod_prev[0] = 1.0\n",
    "\n",
    "sqrt_recip_alphas = (1.0 / alphas)**(1/2)\n",
    "sqrt_alphas_cumprod = (alphas_cumprod)**(1/2)\n",
    "sqrt_one_minus_alphas_cumprod = (1. - alphas_cumprod)**(1/2)\n",
    "posterior_variance = betas * (1. - alphas_cumprod_prev) / (1. - alphas_cumprod)"
   ]
  },
  {
   "cell_type": "code",
   "execution_count": 44,
   "id": "afe7dfbc",
   "metadata": {},
   "outputs": [
    {
     "name": "stdout",
     "output_type": "stream",
     "text": [
      "10000\n"
     ]
    }
   ],
   "source": [
    "dataset = ndl.data.CIFAR10Dataset(\"data/cifar-10-batches-py\", False)\n",
    "loader = ndl.data.DataLoader(dataset)\n",
    "print(len(loader))\n",
    "for (X, y) in loader:\n",
    "    break"
   ]
  },
  {
   "cell_type": "code",
   "execution_count": 57,
   "id": "56efc9c8",
   "metadata": {},
   "outputs": [],
   "source": [
    "import torchvision\n",
    "import matplotlib.pyplot as plt"
   ]
  },
  {
   "cell_type": "code",
   "execution_count": 64,
   "id": "d32f0dc0",
   "metadata": {},
   "outputs": [
    {
     "name": "stdout",
     "output_type": "stream",
     "text": [
      "Files already downloaded and verified\n"
     ]
    }
   ],
   "source": [
    "trainset = torchvision.datasets.CIFAR10(root='./data', train=True,\n",
    "                                        download=True)"
   ]
  },
  {
   "cell_type": "code",
   "execution_count": null,
   "id": "4f73cc55",
   "metadata": {},
   "outputs": [],
   "source": []
  }
 ],
 "metadata": {
  "kernelspec": {
   "display_name": "Python 3 (ipykernel)",
   "language": "python",
   "name": "python3"
  },
  "language_info": {
   "codemirror_mode": {
    "name": "ipython",
    "version": 3
   },
   "file_extension": ".py",
   "mimetype": "text/x-python",
   "name": "python",
   "nbconvert_exporter": "python",
   "pygments_lexer": "ipython3",
   "version": "3.10.8"
  }
 },
 "nbformat": 4,
 "nbformat_minor": 5
}
