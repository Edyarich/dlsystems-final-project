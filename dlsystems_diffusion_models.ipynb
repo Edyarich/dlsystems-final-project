{
 "cells": [
  {
   "cell_type": "markdown",
   "metadata": {
    "id": "PtsJfkA53JLY",
    "pycharm": {
     "name": "#%% md\n"
    }
   },
   "source": [
    "# Final project notebook"
   ]
  },
  {
   "cell_type": "code",
   "execution_count": 1,
   "metadata": {
    "pycharm": {
     "name": "#%%\n"
    }
   },
   "outputs": [],
   "source": [
    "%load_ext autoreload\n",
    "%autoreload 2"
   ]
  },
  {
   "cell_type": "code",
   "execution_count": null,
   "outputs": [],
   "source": [
    "!pip3 install -q pybind11\n",
    "!pip uninstall -q --yes gdown\n",
    "!pip install -q gdown -U --no-cache-dir\n",
    "!pip3 install -q --upgrade --no-deps git+https://github.com/dlsys10714/mugrade.git"
   ],
   "metadata": {
    "collapsed": false,
    "pycharm": {
     "name": "#%%\n"
    }
   }
  },
  {
   "cell_type": "code",
   "execution_count": null,
   "outputs": [],
   "source": [
    "# Code to set up the assignment\n",
    "try:\n",
    "    import google.colab\n",
    "    IN_COLAB = True\n",
    "except:\n",
    "    IN_COLAB = False\n",
    "\n",
    "if IN_COLAB:\n",
    "    from google.colab import drive\n",
    "    drive.mount('/content/drive')\n",
    "    %cd /content/drive/MyDrive/\n",
    "    !mkdir -p 10714\n",
    "    %cd /content/drive/MyDrive/10714\n",
    "    !git clone https://github.com/Edyarich/dlsystems-final-project\n",
    "    %cd /content/drive/MyDrive/10714/dlsystems-final-project"
   ],
   "metadata": {
    "collapsed": false,
    "pycharm": {
     "name": "#%%\n"
    }
   }
  },
  {
   "cell_type": "code",
   "execution_count": null,
   "outputs": [],
   "source": [
    "!make"
   ],
   "metadata": {
    "collapsed": false,
    "pycharm": {
     "name": "#%%\n"
    }
   }
  },
  {
   "cell_type": "code",
   "execution_count": null,
   "outputs": [],
   "source": [
    "import sys\n",
    "sys.path.append('./python')\n",
    "sys.path.append('./data/')"
   ],
   "metadata": {
    "collapsed": false,
    "pycharm": {
     "name": "#%%\n"
    }
   }
  },
  {
   "cell_type": "code",
   "execution_count": null,
   "outputs": [],
   "source": [
    "# Download the datasets you will be using for this project\n",
    "import os\n",
    "import gdown\n",
    "import importlib\n",
    "from data.utils import rename_and_filter_images\n",
    "import urllib.request\n",
    "\n",
    "\n",
    "%cd ./data\n",
    "DIRNAME = './landscapes/'\n",
    "\n",
    "if not os.path.exists(DIRNAME):\n",
    "    !gdown 14g49ILtIYKLt7WXaRPYyVfJGLHxcnQ7s\n",
    "    !unzip -q landscapes -d landscapes\n",
    "    !rm landscapes.zip\n",
    "\n",
    "    rename_and_filter_images(DIRNAME)\n",
    "\n",
    "if not os.path.isdir(\"./cifar-10-batches-py\"):\n",
    "    urllib.request.urlretrieve(\"https://www.cs.toronto.edu/~kriz/cifar-10-python.tar.gz\", \"./cifar-10-python.tar.gz\")\n",
    "    !tar -xvzf './cifar-10-python.tar.gz'\n",
    "\n",
    "%cd ../"
   ],
   "metadata": {
    "collapsed": false,
    "pycharm": {
     "name": "#%%\n"
    }
   }
  },
  {
   "cell_type": "markdown",
   "source": [
    "**Создание датасета \"Пейзажи\"**"
   ],
   "metadata": {
    "collapsed": false,
    "pycharm": {
     "name": "#%% md\n"
    }
   }
  },
  {
   "cell_type": "code",
   "execution_count": null,
   "outputs": [],
   "source": [
    "import needle as ndl\n",
    "import numpy as np\n",
    "from matplotlib import pyplot as plt\n",
    "from pathlib import Path\n",
    "from needle.autograd import Tensor\n",
    "\n",
    "\n",
    "def plot_landscape(img: np.ndarray):\n",
    "    img = np.transpose(img, (1, 2, 0))\n",
    "    img = (img + 1) / 2\n",
    "    plt.imshow(img);\n",
    "\n",
    "\n",
    "DATA_DIR = Path('./data/landscapes/')\n",
    "IMAGE_FILES = sorted(str(x) for x in list(DATA_DIR.rglob('*.jpg')))\n",
    "\n",
    "transforms = [\n",
    "    ndl.data.RandomFlipHorizontal(),\n",
    "    ndl.data.Lambda(lambda img: np.transpose(img, (2, 0, 1))),\n",
    "]\n",
    "\n",
    "dataset = ndl.data.LandscapesDataset(\n",
    "    IMAGE_FILES, extra_transforms=transforms, img_size=128\n",
    ")\n",
    "plot_landscape(dataset[12])"
   ],
   "metadata": {
    "collapsed": false,
    "pycharm": {
     "name": "#%%\n"
    }
   }
  },
  {
   "cell_type": "markdown",
   "source": [
    "**Работа с даталоадером**"
   ],
   "metadata": {
    "collapsed": false,
    "pycharm": {
     "name": "#%% md\n"
    }
   }
  },
  {
   "cell_type": "code",
   "execution_count": null,
   "outputs": [],
   "source": [
    "dataloader = ndl.data.DataLoader(dataset, batch_size=8)\n",
    "\n",
    "for batch in dataloader:\n",
    "    break\n",
    "    \n",
    "batch"
   ],
   "metadata": {
    "collapsed": false,
    "pycharm": {
     "name": "#%%\n"
    }
   }
  },
  {
   "cell_type": "markdown",
   "source": [
    "**Тесты на MaxPool и ConvTranspose**"
   ],
   "metadata": {
    "collapsed": false,
    "pycharm": {
     "name": "#%% md\n"
    }
   }
  },
  {
   "cell_type": "code",
   "execution_count": null,
   "outputs": [],
   "source": [
    "!python3 -m pytest -l -v -k \"op_maxpool\""
   ],
   "metadata": {
    "collapsed": false,
    "pycharm": {
     "name": "#%%\n"
    }
   }
  },
  {
   "cell_type": "code",
   "execution_count": null,
   "outputs": [],
   "source": [
    "!python3 -m pytest -l -v -s -k \"nn_conv_tr_forward\""
   ],
   "metadata": {
    "collapsed": false,
    "pycharm": {
     "name": "#%%\n"
    }
   }
  },
  {
   "cell_type": "code",
   "execution_count": null,
   "outputs": [],
   "source": [
    "!python3 -m pytest -l -v -k \"nn_conv_tr_backward\""
   ],
   "metadata": {
    "collapsed": false,
    "pycharm": {
     "name": "#%%\n"
    }
   }
  },
  {
   "cell_type": "code",
   "execution_count": null,
   "outputs": [],
   "source": [
    "import torch\n",
    "\n",
    "\n",
    "arr = torch.rand(5, 3, 4)\n",
    "arr = arr[(..., ) + (None, ) * 2]\n",
    "arr.shape"
   ],
   "metadata": {
    "collapsed": false,
    "pycharm": {
     "name": "#%%\n"
    }
   }
  },
  {
   "cell_type": "code",
   "execution_count": null,
   "outputs": [],
   "source": [
    "class Block(Module):\n",
    "    def __init__(self, in_ch, out_ch, time_emb_dim, up=False):\n",
    "        super().__init__()\n",
    "        self.time_mlp =  Linear(time_emb_dim, out_ch)\n",
    "        if up:\n",
    "            self.conv1 = Conv(2*in_ch, out_ch, 3, padding=1)\n",
    "            self.transform = ConvTranspose(out_ch, out_ch, 4, 2, 1)\n",
    "        else:\n",
    "            self.conv1 = Conv(in_ch, out_ch, 3, padding=1)\n",
    "            self.transform = Conv(out_ch, out_ch, 4, 2, 1)\n",
    "        self.conv2 = Conv(out_ch, out_ch, 3, padding=1)\n",
    "        self.bnorm1 = BatchNorm2d(out_ch)\n",
    "        self.bnorm2 = BatchNorm2d(out_ch)\n",
    "        self.relu = ReLU()\n",
    " \n",
    "    def forward(self, x, t):\n",
    "        # First Conv\n",
    "        h = self.bnorm1(self.relu(self.conv1(x)))\n",
    "        # Time embedding\n",
    "        time_emb = self.relu(self.time_mlp(t))\n",
    "        # Extend last 2 dimensions\n",
    "        time_emb = time_emb.reshape(time_emb.shape + (1, 1))\n",
    "        # Add time channel\n",
    "        h = h + time_emb\n",
    "        # Second Conv\n",
    "        h = self.bnorm2(self.relu(self.conv2(h)))\n",
    "        # Down or Upsample\n",
    "        return self.transform(h)\n",
    "\n",
    "\n",
    "class Unet(Module):\n",
    "    \"\"\"\n",
    "    A simplified variant of the Unet architecture.\n",
    "    \"\"\"\n",
    "    def __init__(self):\n",
    "        super().__init__()\n",
    "        image_channels = 3\n",
    "        down_channels = (64, 128, 256, 512, 1024)\n",
    "        up_channels = (1024, 512, 256, 128, 64)\n",
    "        out_dim = 1 \n",
    "        time_emb_dim = 16\n",
    " \n",
    "        # Time embedding\n",
    "        self.time_mlp = Sequential(\n",
    "            SinusoidalPosEmb(time_emb_dim),\n",
    "            Linear(time_emb_dim, time_emb_dim),\n",
    "            ReLU()\n",
    "        )\n",
    " \n",
    "        # Initial projection\n",
    "        self.conv0 = Conv(image_channels, down_channels[0], 3, padding=1)\n",
    " \n",
    "        # Downsample\n",
    "        self.downs = []\n",
    "        # Upsample\n",
    "        self.ups = []\n",
    "        \n",
    "        for i in range(len(down_channels) - 1):\n",
    "            self.downs.append(\n",
    "                Block(down_channels[i], down_channels[i+1], time_emb_dim)\n",
    "            )\n",
    "            setattr(self, f'down_block_{i}', self.downs[-1])\n",
    "            \n",
    "        for i in range(len(up_channels) - 1):\n",
    "            self.ups.append(\n",
    "                Block(up_channels[i], up_channels[i+1], time_emb_dim, up=True)\n",
    "            )\n",
    "            setattr(self, f'up_block_{i}', self.ups[-1])\n",
    " \n",
    "        self.output = Conv(up_channels[-1], 3, out_dim)\n",
    " \n",
    "    def forward(self, x, timestep):\n",
    "        # Embedd time\n",
    "        t = self.time_mlp(timestep)\n",
    "        # Initial conv\n",
    "        x = self.conv0(x)\n",
    "        # Unet\n",
    "        residual_inputs = []\n",
    "        for down in self.downs:\n",
    "            x = down(x, t)\n",
    "            residual_inputs.append(x)\n",
    "        for up in self.ups:\n",
    "            residual_x = residual_inputs.pop()\n",
    "            # Add residual x as additional channels\n",
    "            x = ops.stack((x, residual_x), dim=1)           \n",
    "            x = up(x, t)\n",
    "        \n",
    "        return self.output(x)"
   ],
   "metadata": {
    "collapsed": false,
    "pycharm": {
     "name": "#%%\n"
    }
   }
  },
  {
   "cell_type": "code",
   "execution_count": null,
   "outputs": [],
   "source": [
    "\n",
    "\n",
    "mask = -2 * (X < 0) + 1"
   ],
   "metadata": {
    "collapsed": false,
    "pycharm": {
     "name": "#%%\n"
    }
   }
  },
  {
   "cell_type": "markdown",
   "metadata": {},
   "source": [
    "**Работа с даталоадером**"
   ]
  },
  {
   "cell_type": "code",
   "execution_count": 14,
   "metadata": {},
   "outputs": [
    {
     "data": {
      "text/plain": [
       "needle.Tensor([[[[-0.03823529 -0.01378676 -0.01587776 ... -0.27058822 -0.27058822\n",
       "    -0.27058822]\n",
       "   [-0.05098039 -0.04313725 -0.03000153 ... -0.27058822 -0.27058822\n",
       "    -0.27058822]\n",
       "   [-0.06997549 -0.05324754 -0.05198376 ... -0.27745098 -0.27843136\n",
       "    -0.27843136]\n",
       "   ...\n",
       "   [-0.43767616 -0.54407936 -0.4060738  ... -0.3275735  -0.2516544\n",
       "    -0.45902267]\n",
       "   [-0.5916897  -0.4124387  -0.3243719  ... -0.29710478 -0.66760117\n",
       "    -0.8066789 ]\n",
       "   [-0.9357154  -0.6149969  -0.42015165 ... -0.41815257 -0.36354166\n",
       "    -0.2882123 ]]\n",
       "\n",
       "  [[-0.18725489 -0.16280636 -0.16489735 ... -0.45098037 -0.45098037\n",
       "    -0.45098037]\n",
       "   [-0.19999999 -0.19215685 -0.17902113 ... -0.45098037 -0.45098037\n",
       "    -0.45098037]\n",
       "   [-0.21899508 -0.20226714 -0.20100336 ... -0.45784312 -0.4588235\n",
       "    -0.4588235 ]\n",
       "   ...\n",
       "   [-0.53179383 -0.638197   -0.4982307  ... -0.37463233 -0.2987132\n",
       "    -0.50608146]\n",
       "   [-0.68580735 -0.5065564  -0.41652876 ... -0.3441636  -0.71466\n",
       "    -0.8537378 ]\n",
       "   [-0.95804226 -0.6287224  -0.51917124 ... -0.4632506  -0.40275735\n",
       "    -0.32742798]]\n",
       "\n",
       "  [[-0.2107843  -0.18633577 -0.18842676 ... -0.46666664 -0.46666664\n",
       "    -0.46666664]\n",
       "   [-0.2235294  -0.21568626 -0.20255055 ... -0.46666664 -0.46666664\n",
       "    -0.46666664]\n",
       "   [-0.24252449 -0.22579655 -0.22453277 ... -0.4735294  -0.47450978\n",
       "    -0.47450978]\n",
       "   ...\n",
       "   [-0.53179383 -0.638197   -0.4982307  ... -0.3667892  -0.29087007\n",
       "    -0.49823835]\n",
       "   [-0.68580735 -0.5065564  -0.41652876 ... -0.33632046 -0.70681685\n",
       "    -0.84589463]\n",
       "   [-0.95728403 -0.6287224  -0.5054458  ... -0.46815258 -0.41060048\n",
       "    -0.33527112]]]\n",
       "\n",
       "\n",
       " [[[-0.5686275  -0.5686275  -0.5686275  ... -0.4588235  -0.4588235\n",
       "    -0.4588235 ]\n",
       "   [-0.5686275  -0.5686275  -0.5529412  ... -0.4588235  -0.4588235\n",
       "    -0.4588235 ]\n",
       "   [-0.56078434 -0.56078434 -0.56078434 ... -0.4588235  -0.46666664\n",
       "    -0.46666664]\n",
       "   ...\n",
       "   [-0.7254902  -0.7254902  -0.7137255  ... -0.4823529  -0.44313723\n",
       "    -0.41176468]\n",
       "   [-0.7176471  -0.7176471  -0.7137255  ... -0.36666664 -0.4098039\n",
       "    -0.45294115]\n",
       "   [-0.7019608  -0.7019608  -0.7019608  ... -0.41568625 -0.445098\n",
       "    -0.4862745 ]]\n",
       "\n",
       "  [[-0.6313726  -0.6313726  -0.6313726  ... -0.6156863  -0.6156863\n",
       "    -0.6156863 ]\n",
       "   [-0.6313726  -0.6313726  -0.6156863  ... -0.6156863  -0.6156863\n",
       "    -0.6156863 ]\n",
       "   [-0.62352943 -0.62352943 -0.62352943 ... -0.6156863  -0.62352943\n",
       "    -0.62352943]\n",
       "   ...\n",
       "   [-0.7921569  -0.78627455 -0.76862746 ... -0.59411764 -0.56078434\n",
       "    -0.5392157 ]\n",
       "   [-0.78431374 -0.7784314  -0.76862746 ... -0.4843137  -0.52156866\n",
       "    -0.5627451 ]\n",
       "   [-0.754902   -0.74705887 -0.73921573 ... -0.5431373  -0.55490196\n",
       "    -0.57254905]]\n",
       "\n",
       "  [[-0.94509804 -0.94509804 -0.94509804 ... -0.9372549  -0.9372549\n",
       "    -0.9372549 ]\n",
       "   [-0.94509804 -0.94509804 -0.92941177 ... -0.9372549  -0.9372549\n",
       "    -0.9372549 ]\n",
       "   [-0.9372549  -0.9372549  -0.9372549  ... -0.9372549  -0.94509804\n",
       "    -0.94509804]\n",
       "   ...\n",
       "   [-0.9137255  -0.9235294  -0.92156863 ... -0.9764706  -0.94509804\n",
       "    -0.9411765 ]\n",
       "   [-0.90588236 -0.91568625 -0.92156863 ... -0.8686274  -0.9039216\n",
       "    -0.93921566]\n",
       "   [-0.91764706 -0.9313725  -0.9411765  ... -0.94509804 -0.9313725\n",
       "    -0.93333334]]]\n",
       "\n",
       "\n",
       " [[[ 0.1431373   0.1313726   0.1313726  ...  0.3176471   0.3176471\n",
       "     0.3150123 ]\n",
       "   [ 0.14309135  0.1333487   0.1333487  ...  0.31763178  0.309758\n",
       "     0.30189955]\n",
       "   [ 0.13725495  0.13795961  0.13795961 ...  0.31035542  0.29859072\n",
       "     0.2887868 ]\n",
       "   ...\n",
       "   [-0.7019608  -0.7019608  -0.7019608  ... -0.48486516 -0.4795343\n",
       "    -0.4861979 ]\n",
       "   [-0.7019608  -0.7019608  -0.7019608  ... -0.49019605 -0.49019605\n",
       "    -0.49019605]\n",
       "   [-0.7019608  -0.7019608  -0.7019608  ... -0.49019605 -0.49019605\n",
       "    -0.49019605]]\n",
       "\n",
       "  [[-0.20196077 -0.21372548 -0.21372548 ...  0.03529418  0.03529418\n",
       "     0.03265937]\n",
       "   [-0.20200673 -0.21174937 -0.21174937 ...  0.03527886  0.02740508\n",
       "     0.01954663]\n",
       "   [-0.20784312 -0.20713846 -0.20713846 ...  0.02800251  0.0162378\n",
       "     0.00643388]\n",
       "   ...\n",
       "   [-0.73333335 -0.73333335 -0.73333335 ... -0.69662994 -0.691299\n",
       "    -0.69796264]\n",
       "   [-0.73333335 -0.73333335 -0.73333335 ... -0.7019608  -0.7019608\n",
       "    -0.7019608 ]\n",
       "   [-0.73333335 -0.73333335 -0.73333335 ... -0.7019608  -0.7019608\n",
       "    -0.7019608 ]]\n",
       "\n",
       "  [[-0.42941174 -0.44117644 -0.44117644 ... -0.24705881 -0.24705881\n",
       "    -0.24969362]\n",
       "   [-0.4294577  -0.43920034 -0.43920034 ... -0.24707413 -0.2549479\n",
       "    -0.26280636]\n",
       "   [-0.4352941  -0.43458945 -0.43458945 ... -0.25435048 -0.2661152\n",
       "    -0.2759191 ]\n",
       "   ...\n",
       "   [-0.7411765  -0.7411765  -0.7411765  ... -0.7280025  -0.72267157\n",
       "    -0.7293352 ]\n",
       "   [-0.7411765  -0.7411765  -0.7411765  ... -0.73333335 -0.73333335\n",
       "    -0.73333335]\n",
       "   [-0.7411765  -0.7411765  -0.7411765  ... -0.73333335 -0.73333335\n",
       "    -0.73333335]]]\n",
       "\n",
       "\n",
       " ...\n",
       "\n",
       "\n",
       " [[[-0.80904186 -0.87622935 -0.9980354  ... -0.06404718 -0.05685891\n",
       "    -0.05620404]\n",
       "   [-0.77601874 -0.929159   -0.81800324 ... -0.05685125 -0.04508272\n",
       "    -0.0352788 ]\n",
       "   [-0.05674398 -0.53859913 -1.         ... -0.05492111 -0.0372549\n",
       "    -0.02613741]\n",
       "   ...\n",
       "   [-0.84254754 -0.96988356 -0.8853209  ... -0.89478403 -0.79693633\n",
       "    -0.9250536 ]\n",
       "   [-0.8215839  -0.945167   -0.9685853  ... -0.96065027 -0.71771985\n",
       "    -0.9586704 ]\n",
       "   [-0.7418582  -0.83860296 -0.9228898  ... -0.8771829  -0.7575062\n",
       "    -0.86998314]]\n",
       "\n",
       "  [[-0.75542283 -0.8023361  -0.8881281  ... -0.15816481 -0.15097655\n",
       "    -0.15032168]\n",
       "   [-0.6268612  -0.7447419  -0.580756   ... -0.1509689  -0.13920036\n",
       "    -0.12939644]\n",
       "   [ 0.21540676 -0.28426775 -0.80607384 ... -0.14903875 -0.13137254\n",
       "    -0.12025505]\n",
       "   ...\n",
       "   [-0.4373698  -0.59723884 -0.50424325 ... -0.34839153 -0.21985675\n",
       "    -0.25718826]\n",
       "   [-0.40589768 -0.5335172  -0.56863517 ... -0.42337236 -0.1314453\n",
       "    -0.2743451 ]\n",
       "   [-0.33661917 -0.4346737  -0.52288985 ... -0.34644607 -0.180373\n",
       "    -0.19023436]]\n",
       "\n",
       "  [[-0.69921494 -0.7755438  -0.89009273 ... -0.18953736 -0.1823491\n",
       "    -0.18169422]\n",
       "   [-0.5994485  -0.7290786  -0.58664215 ... -0.18234144 -0.1705729\n",
       "    -0.16076899]\n",
       "   [ 0.21799561 -0.28822765 -0.813917   ... -0.1804113  -0.16274509\n",
       "    -0.1516276 ]\n",
       "   ...\n",
       "   [-0.54717374 -0.70704275 -0.6140472  ... -0.4817249  -0.35907245\n",
       "    -0.41469818]\n",
       "   [-0.5157016  -0.6433211  -0.6784391  ... -0.5567058  -0.270661\n",
       "    -0.43316862]\n",
       "   [-0.4464231  -0.5444777  -0.63269377 ... -0.4797794  -0.31958866\n",
       "    -0.34775198]]]\n",
       "\n",
       "\n",
       " [[[ 0.73333335  0.73333335  0.7490196  ...  0.7490196   0.74509805\n",
       "     0.73333335]\n",
       "   [ 0.73333335  0.73333335  0.7411765  ...  0.7372549   0.7372549\n",
       "     0.7254902 ]\n",
       "   [ 0.73333335  0.73333335  0.73333335 ...  0.73333335  0.73333335\n",
       "     0.7176471 ]\n",
       "   ...\n",
       "   [-0.18823528 -0.2117647  -0.20392156 ... -0.1490196  -0.18823528\n",
       "    -0.18039215]\n",
       "   [-0.17647058 -0.19215685 -0.17647058 ... -0.1490196  -0.15686274\n",
       "    -0.18823528]\n",
       "   [-0.17647058 -0.17647058 -0.19215685 ... -0.1490196  -0.15294117\n",
       "    -0.15686274]]\n",
       "\n",
       "  [[ 0.70980394  0.70980394  0.7254902  ...  0.7176471   0.7137255\n",
       "     0.7019608 ]\n",
       "   [ 0.70980394  0.70980394  0.7176471  ...  0.7058824   0.7058824\n",
       "     0.69411767]\n",
       "   [ 0.70980394  0.70980394  0.70980394 ...  0.7019608   0.7019608\n",
       "     0.6862745 ]\n",
       "   ...\n",
       "   [-0.27843136 -0.3098039  -0.30588233 ... -0.25098038 -0.29019606\n",
       "    -0.28235292]\n",
       "   [-0.2862745  -0.30588233 -0.2980392  ... -0.25098038 -0.2588235\n",
       "    -0.29019606]\n",
       "   [-0.2980392  -0.30196077 -0.3215686  ... -0.25098038 -0.25490195\n",
       "    -0.2588235 ]]\n",
       "\n",
       "  [[ 0.7254902   0.7254902   0.7411765  ...  0.75686276  0.7529412\n",
       "     0.7411765 ]\n",
       "   [ 0.7254902   0.7254902   0.73333335 ...  0.74509805  0.74509805\n",
       "     0.73333335]\n",
       "   [ 0.7254902   0.7254902   0.7254902  ...  0.7411765   0.7411765\n",
       "     0.7254902 ]\n",
       "   ...\n",
       "   [-0.42745095 -0.44313723 -0.4235294  ... -0.3607843  -0.39999998\n",
       "    -0.39215684]\n",
       "   [-0.43137252 -0.43921566 -0.41176468 ... -0.3607843  -0.36862743\n",
       "    -0.39999998]\n",
       "   [-0.43921566 -0.43137252 -0.4352941  ... -0.3607843  -0.36470586\n",
       "    -0.36862743]]]\n",
       "\n",
       "\n",
       " [[[ 0.84313726  0.84313726  0.8509804  ...  0.54509807  0.5529412\n",
       "     0.5372549 ]\n",
       "   [ 0.8494945   0.8494945   0.8509804  ...  0.54509807  0.5529412\n",
       "     0.5372549 ]\n",
       "   [ 0.85882354  0.85882354  0.8509804  ...  0.54509807  0.5529412\n",
       "     0.5372549 ]\n",
       "   ...\n",
       "   [ 0.8117647   0.827451    0.81960785 ...  0.45098042  0.4431373\n",
       "     0.4431373 ]\n",
       "   [ 0.8117647   0.827451    0.81960785 ...  0.4713312   0.4666667\n",
       "     0.45564494]\n",
       "   [ 0.8117647   0.827451    0.81960785 ...  0.47606468  0.4721431\n",
       "     0.4603784 ]]\n",
       "\n",
       "  [[ 0.84313726  0.84313726  0.8509804  ...  0.54509807  0.5529412\n",
       "     0.5372549 ]\n",
       "   [ 0.8494945   0.8494945   0.8509804  ...  0.54509807  0.5529412\n",
       "     0.5372549 ]\n",
       "   [ 0.85882354  0.85882354  0.8509804  ...  0.54509807  0.5529412\n",
       "     0.5372549 ]\n",
       "   ...\n",
       "   [ 0.8117647   0.827451    0.81960785 ...  0.45098042  0.4431373\n",
       "     0.4431373 ]\n",
       "   [ 0.8117647   0.827451    0.81960785 ...  0.4713312   0.4666667\n",
       "     0.45564494]\n",
       "   [ 0.8117647   0.827451    0.81960785 ...  0.47606468  0.4721431\n",
       "     0.4603784 ]]\n",
       "\n",
       "  [[ 0.84313726  0.84313726  0.8509804  ...  0.54509807  0.5529412\n",
       "     0.5372549 ]\n",
       "   [ 0.8494945   0.8494945   0.8509804  ...  0.54509807  0.5529412\n",
       "     0.5372549 ]\n",
       "   [ 0.85882354  0.85882354  0.8509804  ...  0.54509807  0.5529412\n",
       "     0.5372549 ]\n",
       "   ...\n",
       "   [ 0.8117647   0.827451    0.81960785 ...  0.45098042  0.4431373\n",
       "     0.4431373 ]\n",
       "   [ 0.8117647   0.827451    0.81960785 ...  0.4713312   0.4666667\n",
       "     0.45564494]\n",
       "   [ 0.8117647   0.827451    0.81960785 ...  0.47606468  0.4721431\n",
       "     0.4603784 ]]]])"
      ]
     },
     "execution_count": 14,
     "metadata": {},
     "output_type": "execute_result"
    }
   ],
   "source": [
    "dataloader = ndl.data.DataLoader(dataset, batch_size=8)\n",
    "\n",
    "for batch in dataloader:\n",
    "    break\n",
    "    \n",
    "batch"
   ]
  },
  {
   "cell_type": "markdown",
   "metadata": {},
   "source": [
    "**Тесты на MaxPool и ConvTranspose**"
   ]
  },
  {
   "cell_type": "code",
   "execution_count": 13,
   "metadata": {},
   "outputs": [
    {
     "name": "stdout",
     "output_type": "stream",
     "text": [
      "\u001B[1m============================= test session starts ==============================\u001B[0m\n",
      "platform linux -- Python 3.9.13, pytest-7.2.0, pluggy-1.0.0 -- /home/eduard/anaconda3/envs/python/bin/python3\n",
      "cachedir: .pytest_cache\n",
      "rootdir: /home/eduard/git/dlsystems-final-project\n",
      "collected 1851 items / 1803 deselected / 48 selected                           \u001B[0m\u001B[1m\u001B[1m\u001B[1m\n",
      "\n",
      "tests/test_conv.py::test_op_maxpool[backward-needle.backend_ndarray.ndarray_backend_cpu-X_shape0-2] \u001B[32mPASSED\u001B[0m\u001B[32m [  2%]\u001B[0m\n",
      "tests/test_conv.py::test_op_maxpool[backward-needle.backend_ndarray.ndarray_backend_cpu-X_shape1-2] \u001B[32mPASSED\u001B[0m\u001B[32m [  4%]\u001B[0m\n",
      "tests/test_conv.py::test_op_maxpool[backward-needle.backend_ndarray.ndarray_backend_cpu-X_shape2-2] \u001B[32mPASSED\u001B[0m\u001B[32m [  6%]\u001B[0m\n",
      "tests/test_conv.py::test_op_maxpool[backward-needle.backend_ndarray.ndarray_backend_cpu-X_shape3-2] \u001B[32mPASSED\u001B[0m\u001B[32m [  8%]\u001B[0m\n",
      "tests/test_conv.py::test_op_maxpool[backward-needle.backend_ndarray.ndarray_backend_cpu-X_shape4-2] \u001B[32mPASSED\u001B[0m\u001B[32m [ 10%]\u001B[0m\n",
      "tests/test_conv.py::test_op_maxpool[backward-needle.backend_ndarray.ndarray_backend_cpu-X_shape5-2] \u001B[32mPASSED\u001B[0m\u001B[32m [ 12%]\u001B[0m\n",
      "tests/test_conv.py::test_op_maxpool[backward-needle.backend_ndarray.ndarray_backend_cpu-X_shape6-3] \u001B[32mPASSED\u001B[0m\u001B[32m [ 14%]\u001B[0m\n",
      "tests/test_conv.py::test_op_maxpool[backward-needle.backend_ndarray.ndarray_backend_cpu-X_shape7-3] \u001B[32mPASSED\u001B[0m\u001B[32m [ 16%]\u001B[0m\n",
      "tests/test_conv.py::test_op_maxpool[backward-needle.backend_ndarray.ndarray_backend_cpu-X_shape8-3] \u001B[32mPASSED\u001B[0m\u001B[32m [ 18%]\u001B[0m\n",
      "tests/test_conv.py::test_op_maxpool[backward-needle.backend_ndarray.ndarray_backend_cpu-X_shape9-3] \u001B[32mPASSED\u001B[0m\u001B[32m [ 20%]\u001B[0m\n",
      "tests/test_conv.py::test_op_maxpool[backward-needle.backend_ndarray.ndarray_backend_cpu-X_shape10-3] \u001B[32mPASSED\u001B[0m\u001B[32m [ 22%]\u001B[0m\n",
      "tests/test_conv.py::test_op_maxpool[backward-needle.backend_ndarray.ndarray_backend_cpu-X_shape11-3] \u001B[32mPASSED\u001B[0m\u001B[32m [ 25%]\u001B[0m\n",
      "tests/test_conv.py::test_op_maxpool[backward-device1-X_shape0-2] \u001B[33mSKIPPED\u001B[0m\u001B[32m [ 27%]\u001B[0m\n",
      "tests/test_conv.py::test_op_maxpool[backward-device1-X_shape1-2] \u001B[33mSKIPPED\u001B[0m\u001B[32m [ 29%]\u001B[0m\n",
      "tests/test_conv.py::test_op_maxpool[backward-device1-X_shape2-2] \u001B[33mSKIPPED\u001B[0m\u001B[32m [ 31%]\u001B[0m\n",
      "tests/test_conv.py::test_op_maxpool[backward-device1-X_shape3-2] \u001B[33mSKIPPED\u001B[0m\u001B[32m [ 33%]\u001B[0m\n",
      "tests/test_conv.py::test_op_maxpool[backward-device1-X_shape4-2] \u001B[33mSKIPPED\u001B[0m\u001B[32m [ 35%]\u001B[0m\n",
      "tests/test_conv.py::test_op_maxpool[backward-device1-X_shape5-2] \u001B[33mSKIPPED\u001B[0m\u001B[32m [ 37%]\u001B[0m\n",
      "tests/test_conv.py::test_op_maxpool[backward-device1-X_shape6-3] \u001B[33mSKIPPED\u001B[0m\u001B[32m [ 39%]\u001B[0m\n",
      "tests/test_conv.py::test_op_maxpool[backward-device1-X_shape7-3] \u001B[33mSKIPPED\u001B[0m\u001B[32m [ 41%]\u001B[0m\n",
      "tests/test_conv.py::test_op_maxpool[backward-device1-X_shape8-3] \u001B[33mSKIPPED\u001B[0m\u001B[32m [ 43%]\u001B[0m\n",
      "tests/test_conv.py::test_op_maxpool[backward-device1-X_shape9-3] \u001B[33mSKIPPED\u001B[0m\u001B[32m [ 45%]\u001B[0m\n",
      "tests/test_conv.py::test_op_maxpool[backward-device1-X_shape10-3] \u001B[33mSKIPPED\u001B[0m\u001B[32m [ 47%]\u001B[0m\n",
      "tests/test_conv.py::test_op_maxpool[backward-device1-X_shape11-3] \u001B[33mSKIPPED\u001B[0m\u001B[32m [ 50%]\u001B[0m\n",
      "tests/test_conv.py::test_op_maxpool[forward-needle.backend_ndarray.ndarray_backend_cpu-X_shape0-2] \u001B[32mPASSED\u001B[0m\u001B[32m [ 52%]\u001B[0m\n",
      "tests/test_conv.py::test_op_maxpool[forward-needle.backend_ndarray.ndarray_backend_cpu-X_shape1-2] \u001B[32mPASSED\u001B[0m\u001B[32m [ 54%]\u001B[0m\n",
      "tests/test_conv.py::test_op_maxpool[forward-needle.backend_ndarray.ndarray_backend_cpu-X_shape2-2] \u001B[32mPASSED\u001B[0m\u001B[32m [ 56%]\u001B[0m\n",
      "tests/test_conv.py::test_op_maxpool[forward-needle.backend_ndarray.ndarray_backend_cpu-X_shape3-2] \u001B[32mPASSED\u001B[0m\u001B[32m [ 58%]\u001B[0m\n",
      "tests/test_conv.py::test_op_maxpool[forward-needle.backend_ndarray.ndarray_backend_cpu-X_shape4-2] \u001B[32mPASSED\u001B[0m\u001B[32m [ 60%]\u001B[0m\n",
      "tests/test_conv.py::test_op_maxpool[forward-needle.backend_ndarray.ndarray_backend_cpu-X_shape5-2] \u001B[32mPASSED\u001B[0m\u001B[32m [ 62%]\u001B[0m\n",
      "tests/test_conv.py::test_op_maxpool[forward-needle.backend_ndarray.ndarray_backend_cpu-X_shape6-3] \u001B[32mPASSED\u001B[0m\u001B[32m [ 64%]\u001B[0m\n",
      "tests/test_conv.py::test_op_maxpool[forward-needle.backend_ndarray.ndarray_backend_cpu-X_shape7-3] \u001B[32mPASSED\u001B[0m\u001B[32m [ 66%]\u001B[0m\n",
      "tests/test_conv.py::test_op_maxpool[forward-needle.backend_ndarray.ndarray_backend_cpu-X_shape8-3] \u001B[32mPASSED\u001B[0m\u001B[32m [ 68%]\u001B[0m\n",
      "tests/test_conv.py::test_op_maxpool[forward-needle.backend_ndarray.ndarray_backend_cpu-X_shape9-3] \u001B[32mPASSED\u001B[0m\u001B[32m [ 70%]\u001B[0m\n",
      "tests/test_conv.py::test_op_maxpool[forward-needle.backend_ndarray.ndarray_backend_cpu-X_shape10-3] \u001B[32mPASSED\u001B[0m\u001B[32m [ 72%]\u001B[0m\n",
      "tests/test_conv.py::test_op_maxpool[forward-needle.backend_ndarray.ndarray_backend_cpu-X_shape11-3] \u001B[32mPASSED\u001B[0m\u001B[32m [ 75%]\u001B[0m\n",
      "tests/test_conv.py::test_op_maxpool[forward-device1-X_shape0-2] \u001B[33mSKIPPED\u001B[0m\u001B[32m  [ 77%]\u001B[0m\n",
      "tests/test_conv.py::test_op_maxpool[forward-device1-X_shape1-2] \u001B[33mSKIPPED\u001B[0m\u001B[32m  [ 79%]\u001B[0m\n",
      "tests/test_conv.py::test_op_maxpool[forward-device1-X_shape2-2] \u001B[33mSKIPPED\u001B[0m\u001B[32m  [ 81%]\u001B[0m\n",
      "tests/test_conv.py::test_op_maxpool[forward-device1-X_shape3-2] \u001B[33mSKIPPED\u001B[0m\u001B[32m  [ 83%]\u001B[0m\n",
      "tests/test_conv.py::test_op_maxpool[forward-device1-X_shape4-2] \u001B[33mSKIPPED\u001B[0m\u001B[32m  [ 85%]\u001B[0m\n",
      "tests/test_conv.py::test_op_maxpool[forward-device1-X_shape5-2] \u001B[33mSKIPPED\u001B[0m\u001B[32m  [ 87%]\u001B[0m\n",
      "tests/test_conv.py::test_op_maxpool[forward-device1-X_shape6-3] \u001B[33mSKIPPED\u001B[0m\u001B[32m  [ 89%]\u001B[0m\n",
      "tests/test_conv.py::test_op_maxpool[forward-device1-X_shape7-3] \u001B[33mSKIPPED\u001B[0m\u001B[32m  [ 91%]\u001B[0m\n",
      "tests/test_conv.py::test_op_maxpool[forward-device1-X_shape8-3] \u001B[33mSKIPPED\u001B[0m\u001B[32m  [ 93%]\u001B[0m\n",
      "tests/test_conv.py::test_op_maxpool[forward-device1-X_shape9-3] \u001B[33mSKIPPED\u001B[0m\u001B[32m  [ 95%]\u001B[0m\n",
      "tests/test_conv.py::test_op_maxpool[forward-device1-X_shape10-3] \u001B[33mSKIPPED\u001B[0m\u001B[32m [ 97%]\u001B[0m\n",
      "tests/test_conv.py::test_op_maxpool[forward-device1-X_shape11-3] \u001B[33mSKIPPED\u001B[0m\u001B[32m [100%]\u001B[0m\n",
      "\n",
      "\u001B[32m=============== \u001B[32m\u001B[1m24 passed\u001B[0m, \u001B[33m24 skipped\u001B[0m, \u001B[33m1803 deselected\u001B[0m\u001B[32m in 2.86s\u001B[0m\u001B[32m ================\u001B[0m\n"
     ]
    }
   ],
   "source": [
    "!python3 -m pytest -l -v -k \"op_maxpool\""
   ]
  },
  {
   "cell_type": "code",
   "execution_count": 71,
   "metadata": {},
   "outputs": [
    {
     "name": "stdout",
     "output_type": "stream",
     "text": [
      "\u001B[1m============================= test session starts ==============================\u001B[0m\n",
      "platform linux -- Python 3.9.13, pytest-7.2.0, pluggy-1.0.0 -- /home/eduard/anaconda3/envs/python/bin/python3\n",
      "cachedir: .pytest_cache\n",
      "rootdir: /home/eduard/git/dlsystems-final-project\n",
      "collected 1883 items / 1867 deselected / 16 selected                           \u001B[0m\u001B[1m\u001B[1m\u001B[1m\n",
      "\n",
      "tests/test_conv.py::test_nn_conv_tr_forward[needle.backend_ndarray.ndarray_backend_cpu-2-1-1-3-2-1] \u001B[32mPASSED\u001B[0m\n",
      "tests/test_conv.py::test_nn_conv_tr_forward[needle.backend_ndarray.ndarray_backend_cpu-2-1-2-3-2-1] \u001B[32mPASSED\u001B[0m\n",
      "tests/test_conv.py::test_nn_conv_tr_forward[needle.backend_ndarray.ndarray_backend_cpu-4-8-8-3-1-0] \u001B[32mPASSED\u001B[0m\n",
      "tests/test_conv.py::test_nn_conv_tr_forward[needle.backend_ndarray.ndarray_backend_cpu-4-8-16-3-2-1] \u001B[32mPASSED\u001B[0m\n",
      "tests/test_conv.py::test_nn_conv_tr_forward[needle.backend_ndarray.ndarray_backend_cpu-16-8-16-3-1-1] \u001B[32mPASSED\u001B[0m\n",
      "tests/test_conv.py::test_nn_conv_tr_forward[needle.backend_ndarray.ndarray_backend_cpu-16-16-8-3-2-2] \u001B[32mPASSED\u001B[0m\n",
      "tests/test_conv.py::test_nn_conv_tr_forward[needle.backend_ndarray.ndarray_backend_cpu-32-8-8-3-1-2] \u001B[32mPASSED\u001B[0m\n",
      "tests/test_conv.py::test_nn_conv_tr_forward[needle.backend_ndarray.ndarray_backend_cpu-32-16-8-3-2-0] \u001B[32mPASSED\u001B[0m\n",
      "tests/test_conv.py::test_nn_conv_tr_forward[device1-2-1-1-3-2-1] \u001B[33mSKIPPED\u001B[0m\n",
      "tests/test_conv.py::test_nn_conv_tr_forward[device1-2-1-2-3-2-1] \u001B[33mSKIPPED\u001B[0m\n",
      "tests/test_conv.py::test_nn_conv_tr_forward[device1-4-8-8-3-1-0] \u001B[33mSKIPPED\u001B[0m\n",
      "tests/test_conv.py::test_nn_conv_tr_forward[device1-4-8-16-3-2-1] \u001B[33mSKIPPED\u001B[0m\n",
      "tests/test_conv.py::test_nn_conv_tr_forward[device1-16-8-16-3-1-1] \u001B[33mSKIPPED\u001B[0m\n",
      "tests/test_conv.py::test_nn_conv_tr_forward[device1-16-16-8-3-2-2] \u001B[33mSKIPPED\u001B[0m\n",
      "tests/test_conv.py::test_nn_conv_tr_forward[device1-32-8-8-3-1-2] \u001B[33mSKIPPED\u001B[0m\n",
      "tests/test_conv.py::test_nn_conv_tr_forward[device1-32-16-8-3-2-0] \u001B[33mSKIPPED\u001B[0m\n",
      "\n",
      "\u001B[32m================ \u001B[32m\u001B[1m8 passed\u001B[0m, \u001B[33m8 skipped\u001B[0m, \u001B[33m1867 deselected\u001B[0m\u001B[32m in 2.67s\u001B[0m\u001B[32m =================\u001B[0m\n"
     ]
    }
   ],
   "source": [
    "!python3 -m pytest -l -v -s -k \"nn_conv_tr_forward\""
   ]
  },
  {
   "cell_type": "code",
   "execution_count": 75,
   "metadata": {},
   "outputs": [
    {
     "name": "stdout",
     "output_type": "stream",
     "text": [
      "\u001B[1m============================= test session starts ==============================\u001B[0m\n",
      "platform linux -- Python 3.9.13, pytest-7.2.0, pluggy-1.0.0 -- /home/eduard/anaconda3/envs/python/bin/python3\n",
      "cachedir: .pytest_cache\n",
      "rootdir: /home/eduard/git/dlsystems-final-project\n",
      "collected 1881 items / 1867 deselected / 14 selected                           \u001B[0m\u001B[1m\u001B[1m\u001B[1m\n",
      "\n",
      "tests/test_conv.py::test_nn_conv_tr_backward[needle.backend_ndarray.ndarray_backend_cpu-2-1-1-3-2-1] \u001B[32mPASSED\u001B[0m\u001B[32m [  7%]\u001B[0m\n",
      "tests/test_conv.py::test_nn_conv_tr_backward[needle.backend_ndarray.ndarray_backend_cpu-2-1-2-3-2-1] \u001B[32mPASSED\u001B[0m\u001B[32m [ 14%]\u001B[0m\n",
      "tests/test_conv.py::test_nn_conv_tr_backward[needle.backend_ndarray.ndarray_backend_cpu-4-8-8-3-1-0] \u001B[32mPASSED\u001B[0m\u001B[32m [ 21%]\u001B[0m\n",
      "tests/test_conv.py::test_nn_conv_tr_backward[needle.backend_ndarray.ndarray_backend_cpu-4-8-16-3-2-1] \u001B[32mPASSED\u001B[0m\u001B[32m [ 28%]\u001B[0m\n",
      "tests/test_conv.py::test_nn_conv_tr_backward[needle.backend_ndarray.ndarray_backend_cpu-16-8-16-3-1-1] \u001B[32mPASSED\u001B[0m\u001B[32m [ 35%]\u001B[0m\n",
      "tests/test_conv.py::test_nn_conv_tr_backward[needle.backend_ndarray.ndarray_backend_cpu-16-16-8-3-2-2] \u001B[32mPASSED\u001B[0m\u001B[32m [ 42%]\u001B[0m\n",
      "tests/test_conv.py::test_nn_conv_tr_backward[needle.backend_ndarray.ndarray_backend_cpu-24-8-8-3-1-2] \u001B[32mPASSED\u001B[0m\u001B[32m [ 50%]\u001B[0m\n",
      "tests/test_conv.py::test_nn_conv_tr_backward[device1-2-1-1-3-2-1] \u001B[33mSKIPPED\u001B[0m\u001B[32m [ 57%]\u001B[0m\n",
      "tests/test_conv.py::test_nn_conv_tr_backward[device1-2-1-2-3-2-1] \u001B[33mSKIPPED\u001B[0m\u001B[32m [ 64%]\u001B[0m\n",
      "tests/test_conv.py::test_nn_conv_tr_backward[device1-4-8-8-3-1-0] \u001B[33mSKIPPED\u001B[0m\u001B[32m [ 71%]\u001B[0m\n",
      "tests/test_conv.py::test_nn_conv_tr_backward[device1-4-8-16-3-2-1] \u001B[33mSKIPPED\u001B[0m\u001B[32m [ 78%]\u001B[0m\n",
      "tests/test_conv.py::test_nn_conv_tr_backward[device1-16-8-16-3-1-1] \u001B[33mSKIPPED\u001B[0m\u001B[32m [ 85%]\u001B[0m\n",
      "tests/test_conv.py::test_nn_conv_tr_backward[device1-16-16-8-3-2-2] \u001B[33mSKIPPED\u001B[0m\u001B[32m [ 92%]\u001B[0m\n",
      "tests/test_conv.py::test_nn_conv_tr_backward[device1-24-8-8-3-1-2] \u001B[33mSKIPPED\u001B[0m\u001B[32m [100%]\u001B[0m\n",
      "\n",
      "\u001B[32m================ \u001B[32m\u001B[1m7 passed\u001B[0m, \u001B[33m7 skipped\u001B[0m, \u001B[33m1867 deselected\u001B[0m\u001B[32m in 2.68s\u001B[0m\u001B[32m =================\u001B[0m\n"
     ]
    }
   ],
   "source": [
    "!python3 -m pytest -l -v -k \"nn_conv_tr_backward\""
   ]
  },
  {
   "cell_type": "code",
   "execution_count": 16,
   "metadata": {},
   "outputs": [
    {
     "data": {
      "text/plain": [
       "torch.Size([5, 3, 4, 1, 1])"
      ]
     },
     "execution_count": 16,
     "metadata": {},
     "output_type": "execute_result"
    }
   ],
   "source": [
    "import torch\n",
    "\n",
    "\n",
    "arr = torch.rand(5, 3, 4)\n",
    "arr = arr[(..., ) + (None, ) * 2]\n",
    "arr.shape"
   ]
  },
  {
   "cell_type": "code",
   "execution_count": null,
   "metadata": {},
   "outputs": [],
   "source": [
    "class Block(Module):\n",
    "    def __init__(self, in_ch, out_ch, time_emb_dim, up=False):\n",
    "        super().__init__()\n",
    "        self.time_mlp =  Linear(time_emb_dim, out_ch)\n",
    "        if up:\n",
    "            self.conv1 = Conv(2*in_ch, out_ch, 3, padding=1)\n",
    "            self.transform = ConvTranspose(out_ch, out_ch, 4, 2, 1)\n",
    "        else:\n",
    "            self.conv1 = Conv(in_ch, out_ch, 3, padding=1)\n",
    "            self.transform = Conv(out_ch, out_ch, 4, 2, 1)\n",
    "        self.conv2 = Conv(out_ch, out_ch, 3, padding=1)\n",
    "        self.bnorm1 = BatchNorm2d(out_ch)\n",
    "        self.bnorm2 = BatchNorm2d(out_ch)\n",
    "        self.relu = ReLU()\n",
    " \n",
    "    def forward(self, x, t):\n",
    "        # First Conv\n",
    "        h = self.bnorm1(self.relu(self.conv1(x)))\n",
    "        # Time embedding\n",
    "        time_emb = self.relu(self.time_mlp(t))\n",
    "        # Extend last 2 dimensions\n",
    "        time_emb = time_emb.reshape(time_emb.shape + (1, 1))\n",
    "        # Add time channel\n",
    "        h = h + time_emb\n",
    "        # Second Conv\n",
    "        h = self.bnorm2(self.relu(self.conv2(h)))\n",
    "        # Down or Upsample\n",
    "        return self.transform(h)\n",
    "\n",
    "\n",
    "class Unet(Module):\n",
    "    \"\"\"\n",
    "    A simplified variant of the Unet architecture.\n",
    "    \"\"\"\n",
    "    def __init__(self):\n",
    "        super().__init__()\n",
    "        image_channels = 3\n",
    "        down_channels = (64, 128, 256, 512, 1024)\n",
    "        up_channels = (1024, 512, 256, 128, 64)\n",
    "        out_dim = 1 \n",
    "        time_emb_dim = 16\n",
    " \n",
    "        # Time embedding\n",
    "        self.time_mlp = Sequential(\n",
    "            SinusoidalPosEmb(time_emb_dim),\n",
    "            Linear(time_emb_dim, time_emb_dim),\n",
    "            ReLU()\n",
    "        )\n",
    " \n",
    "        # Initial projection\n",
    "        self.conv0 = Conv(image_channels, down_channels[0], 3, padding=1)\n",
    " \n",
    "        # Downsample\n",
    "        self.downs = []\n",
    "        # Upsample\n",
    "        self.ups = []\n",
    "        \n",
    "        for i in range(len(down_channels) - 1):\n",
    "            self.downs.append(\n",
    "                Block(down_channels[i], down_channels[i+1], time_emb_dim)\n",
    "            )\n",
    "            setattr(self, f'down_block_{i}', self.downs[-1])\n",
    "            \n",
    "        for i in range(len(up_channels) - 1):\n",
    "            self.ups.append(\n",
    "                Block(up_channels[i], up_channels[i+1], time_emb_dim, up=True)\n",
    "            )\n",
    "            setattr(self, f'up_block_{i}', self.ups[-1])\n",
    " \n",
    "        self.output = Conv(up_channels[-1], 3, out_dim)\n",
    " \n",
    "    def forward(self, x, timestep):\n",
    "        # Embedd time\n",
    "        t = self.time_mlp(timestep)\n",
    "        # Initial conv\n",
    "        x = self.conv0(x)\n",
    "        # Unet\n",
    "        residual_inputs = []\n",
    "        for down in self.downs:\n",
    "            x = down(x, t)\n",
    "            residual_inputs.append(x)\n",
    "        for up in self.ups:\n",
    "            residual_x = residual_inputs.pop()\n",
    "            # Add residual x as additional channels\n",
    "            x = ops.stack((x, residual_x), dim=1)           \n",
    "            x = up(x, t)\n",
    "        \n",
    "        return self.output(x)"
   ]
  },
  {
   "cell_type": "code",
   "execution_count": null,
   "metadata": {},
   "outputs": [],
   "source": [
    "\n",
    "\n",
    "mask = -2 * (X < 0) + 1"
   ]
  }
 ],
 "metadata": {
  "colab": {
   "provenance": []
  },
  "kernelspec": {
   "display_name": "Python 3 (ipykernel)",
   "language": "python",
   "name": "python3"
  },
  "language_info": {
   "codemirror_mode": {
    "name": "ipython",
    "version": 3
   },
   "file_extension": ".py",
   "mimetype": "text/x-python",
   "name": "python",
   "nbconvert_exporter": "python",
   "pygments_lexer": "ipython3",
   "version": "3.9.13"
  }
 },
 "nbformat": 4,
 "nbformat_minor": 1
}