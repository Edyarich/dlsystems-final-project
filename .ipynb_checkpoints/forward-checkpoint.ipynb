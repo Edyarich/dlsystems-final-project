{
 "cells": [
  {
   "cell_type": "code",
   "execution_count": 5,
   "id": "c4086825",
   "metadata": {},
   "outputs": [],
   "source": [
    "import sys\n",
    "sys.path.append('./python')"
   ]
  },
  {
   "cell_type": "code",
   "execution_count": 6,
   "id": "70ff0ab3",
   "metadata": {},
   "outputs": [],
   "source": [
    "import needle as ndl\n",
    "from needle import array_api"
   ]
  },
  {
   "cell_type": "code",
   "execution_count": 7,
   "id": "cbdc8380",
   "metadata": {},
   "outputs": [],
   "source": [
    "def linear_beta_schedule(timesteps, start=0.0001, end=0.02):\n",
    "    return array_api.linspace(start, end, timesteps)"
   ]
  },
  {
   "cell_type": "code",
   "execution_count": 8,
   "id": "20b6c94c",
   "metadata": {},
   "outputs": [],
   "source": [
    "def forward_diffusion_sample(x_0, t, device=\"cpu\"):\n",
    "    noise = \"THERE WILL BE NOISE\"\n",
    "    sqrt_alphas_cumprod_t = 0"
   ]
  },
  {
   "cell_type": "code",
   "execution_count": 11,
   "id": "bf90dbf0",
   "metadata": {},
   "outputs": [
    {
     "ename": "TypeError",
     "evalue": "pad() got an unexpected keyword argument 'value'",
     "output_type": "error",
     "traceback": [
      "\u001b[0;31m---------------------------------------------------------------------------\u001b[0m",
      "\u001b[0;31mTypeError\u001b[0m                                 Traceback (most recent call last)",
      "Cell \u001b[0;32mIn [11], line 7\u001b[0m\n\u001b[1;32m      5\u001b[0m alphas \u001b[38;5;241m=\u001b[39m \u001b[38;5;241m1.\u001b[39m \u001b[38;5;241m-\u001b[39m betas\n\u001b[1;32m      6\u001b[0m alphas_cumprod \u001b[38;5;241m=\u001b[39m array_api\u001b[38;5;241m.\u001b[39mcumprod(alphas, axis\u001b[38;5;241m=\u001b[39m\u001b[38;5;241m0\u001b[39m)\n\u001b[0;32m----> 7\u001b[0m alphas_cumprod_prev \u001b[38;5;241m=\u001b[39m array_api\u001b[38;5;241m.\u001b[39mpad(alphas_cumprod[:\u001b[38;5;241m-\u001b[39m\u001b[38;5;241m1\u001b[39m], (\u001b[38;5;241m1\u001b[39m, \u001b[38;5;241m0\u001b[39m), value\u001b[38;5;241m=\u001b[39m\u001b[38;5;241m1.0\u001b[39m)\n\u001b[1;32m      8\u001b[0m sqrt_recip_alphas \u001b[38;5;241m=\u001b[39m torch\u001b[38;5;241m.\u001b[39msqrt(\u001b[38;5;241m1.0\u001b[39m \u001b[38;5;241m/\u001b[39m alphas)\n\u001b[1;32m      9\u001b[0m sqrt_alphas_cumprod \u001b[38;5;241m=\u001b[39m torch\u001b[38;5;241m.\u001b[39msqrt(alphas_cumprod)\n",
      "\u001b[0;31mTypeError\u001b[0m: pad() got an unexpected keyword argument 'value'"
     ]
    }
   ],
   "source": [
    "T = 300\n",
    "betas = linear_beta_schedule(timesteps=T)\n",
    "\n",
    "# Pre-calculate different terms for closed form\n",
    "alphas = 1. - betas\n",
    "alphas_cumprod = array_api.cumprod(alphas, axis=0)\n",
    "alphas_cumprod_prev = array_api.pad(alphas_cumprod[:-1], (1, 0))\n",
    "sqrt_recip_alphas = torch.sqrt(1.0 / alphas)\n",
    "sqrt_alphas_cumprod = torch.sqrt(alphas_cumprod)\n",
    "sqrt_one_minus_alphas_cumprod = torch.sqrt(1. - alphas_cumprod)\n",
    "posterior_variance = betas * (1. - alphas_cumprod_prev) / (1. - alphas_cumprod)"
   ]
  },
  {
   "cell_type": "code",
   "execution_count": null,
   "id": "faa603d6",
   "metadata": {},
   "outputs": [],
   "source": []
  }
 ],
 "metadata": {
  "kernelspec": {
   "display_name": "Python 3 (ipykernel)",
   "language": "python",
   "name": "python3"
  },
  "language_info": {
   "codemirror_mode": {
    "name": "ipython",
    "version": 3
   },
   "file_extension": ".py",
   "mimetype": "text/x-python",
   "name": "python",
   "nbconvert_exporter": "python",
   "pygments_lexer": "ipython3",
   "version": "3.10.8"
  }
 },
 "nbformat": 4,
 "nbformat_minor": 5
}
