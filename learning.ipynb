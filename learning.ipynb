{
 "cells": [
  {
   "cell_type": "code",
   "execution_count": 1,
   "id": "e6Wa7OF4AwL9",
   "metadata": {
    "colab": {
     "base_uri": "https://localhost:8080/"
    },
    "id": "e6Wa7OF4AwL9",
    "outputId": "da5635a9-d8ba-423d-cc1a-647c4cf25f42",
    "pycharm": {
     "name": "#%%\n"
    }
   },
   "outputs": [
    {
     "name": "stdout",
     "output_type": "stream",
     "text": [
      "\u001B[?25l\r",
      "\u001B[K     |█▌                              | 10 kB 33.3 MB/s eta 0:00:01\r",
      "\u001B[K     |███                             | 20 kB 7.8 MB/s eta 0:00:01\r",
      "\u001B[K     |████▍                           | 30 kB 11.1 MB/s eta 0:00:01\r",
      "\u001B[K     |██████                          | 40 kB 6.8 MB/s eta 0:00:01\r",
      "\u001B[K     |███████▍                        | 51 kB 6.3 MB/s eta 0:00:01\r",
      "\u001B[K     |████████▉                       | 61 kB 7.4 MB/s eta 0:00:01\r",
      "\u001B[K     |██████████▎                     | 71 kB 7.5 MB/s eta 0:00:01\r",
      "\u001B[K     |███████████▉                    | 81 kB 6.3 MB/s eta 0:00:01\r",
      "\u001B[K     |█████████████▎                  | 92 kB 7.1 MB/s eta 0:00:01\r",
      "\u001B[K     |██████████████▊                 | 102 kB 7.2 MB/s eta 0:00:01\r",
      "\u001B[K     |████████████████▎               | 112 kB 7.2 MB/s eta 0:00:01\r",
      "\u001B[K     |█████████████████▊              | 122 kB 7.2 MB/s eta 0:00:01\r",
      "\u001B[K     |███████████████████▏            | 133 kB 7.2 MB/s eta 0:00:01\r",
      "\u001B[K     |████████████████████▋           | 143 kB 7.2 MB/s eta 0:00:01\r",
      "\u001B[K     |██████████████████████▏         | 153 kB 7.2 MB/s eta 0:00:01\r",
      "\u001B[K     |███████████████████████▋        | 163 kB 7.2 MB/s eta 0:00:01\r",
      "\u001B[K     |█████████████████████████       | 174 kB 7.2 MB/s eta 0:00:01\r",
      "\u001B[K     |██████████████████████████▌     | 184 kB 7.2 MB/s eta 0:00:01\r",
      "\u001B[K     |████████████████████████████    | 194 kB 7.2 MB/s eta 0:00:01\r",
      "\u001B[K     |█████████████████████████████▌  | 204 kB 7.2 MB/s eta 0:00:01\r",
      "\u001B[K     |███████████████████████████████ | 215 kB 7.2 MB/s eta 0:00:01\r",
      "\u001B[K     |████████████████████████████████| 222 kB 7.2 MB/s \n",
      "\u001B[?25h  Building wheel for mugrade (setup.py) ... \u001B[?25l\u001B[?25hdone\n"
     ]
    }
   ],
   "source": [
    "!pip3 install -q pybind11\n",
    "!pip uninstall -q --yes gdown\n",
    "!pip install -q gdown -U --no-cache-dir\n",
    "!pip3 install -q --upgrade --no-deps git+https://github.com/dlsys10714/mugrade.git"
   ]
  },
  {
   "cell_type": "code",
   "execution_count": 2,
   "id": "REH4lpfTBsnF",
   "metadata": {
    "colab": {
     "base_uri": "https://localhost:8080/"
    },
    "id": "REH4lpfTBsnF",
    "outputId": "57950b2f-5665-4a28-8ca4-907ac04345b8",
    "pycharm": {
     "name": "#%%\n"
    }
   },
   "outputs": [
    {
     "name": "stdout",
     "output_type": "stream",
     "text": [
      "Cloning into 'dlsystems-final-project'...\n",
      "remote: Enumerating objects: 381, done.\u001B[K\n",
      "remote: Counting objects: 100% (381/381), done.\u001B[K\n",
      "remote: Compressing objects: 100% (251/251), done.\u001B[K\n",
      "remote: Total 381 (delta 154), reused 313 (delta 95), pack-reused 0\u001B[K\n",
      "Receiving objects: 100% (381/381), 8.86 MiB | 8.32 MiB/s, done.\n",
      "Resolving deltas: 100% (154/154), done.\n",
      "/content/dlsystems-final-project\n",
      "Branch 'testing' set up to track remote branch 'testing' from 'origin'.\n",
      "Switched to a new branch 'testing'\n",
      "-- The C compiler identification is GNU 7.5.0\n",
      "-- The CXX compiler identification is GNU 7.5.0\n",
      "-- Detecting C compiler ABI info\n",
      "-- Detecting C compiler ABI info - done\n",
      "-- Check for working C compiler: /usr/bin/cc - skipped\n",
      "-- Detecting C compile features\n",
      "-- Detecting C compile features - done\n",
      "-- Detecting CXX compiler ABI info\n",
      "-- Detecting CXX compiler ABI info - done\n",
      "-- Check for working CXX compiler: /usr/bin/c++ - skipped\n",
      "-- Detecting CXX compile features\n",
      "-- Detecting CXX compile features - done\n",
      "-- Found Python: /usr/bin/python3.8 (found version \"3.8.16\") found components: Development Interpreter Development.Module Development.Embed \n",
      "-- Performing Test HAS_FLTO\n",
      "-- Performing Test HAS_FLTO - Success\n",
      "-- Found pybind11: /usr/local/lib/python3.8/dist-packages/pybind11/include (found version \"2.10.2\")\n",
      "-- Looking for pthread.h\n",
      "-- Looking for pthread.h - found\n",
      "-- Performing Test CMAKE_HAVE_LIBC_PTHREAD\n",
      "-- Performing Test CMAKE_HAVE_LIBC_PTHREAD - Failed\n",
      "-- Looking for pthread_create in pthreads\n",
      "-- Looking for pthread_create in pthreads - not found\n",
      "-- Looking for pthread_create in pthread\n",
      "-- Looking for pthread_create in pthread - found\n",
      "-- Found Threads: TRUE  \n",
      "-- Found CUDA: /usr/local/cuda (found version \"11.2\") \n",
      "-- Found cuda, building cuda backend\n",
      "Tue Dec 27 15:23:26 2022       \n",
      "+-----------------------------------------------------------------------------+\n",
      "| NVIDIA-SMI 460.32.03    Driver Version: 460.32.03    CUDA Version: 11.2     |\n",
      "|-------------------------------+----------------------+----------------------+\n",
      "| GPU  Name        Persistence-M| Bus-Id        Disp.A | Volatile Uncorr. ECC |\n",
      "| Fan  Temp  Perf  Pwr:Usage/Cap|         Memory-Usage | GPU-Util  Compute M. |\n",
      "|                               |                      |               MIG M. |\n",
      "|===============================+======================+======================|\n",
      "|   0  Tesla T4            Off  | 00000000:00:04.0 Off |                    0 |\n",
      "| N/A   53C    P0    29W /  70W |      0MiB / 15109MiB |      0%      Default |\n",
      "|                               |                      |                  N/A |\n",
      "+-------------------------------+----------------------+----------------------+\n",
      "                                                                               \n",
      "+-----------------------------------------------------------------------------+\n",
      "| Processes:                                                                  |\n",
      "|  GPU   GI   CI        PID   Type   Process name                  GPU Memory |\n",
      "|        ID   ID                                                   Usage      |\n",
      "|=============================================================================|\n",
      "|  No running processes found                                                 |\n",
      "+-----------------------------------------------------------------------------+\n",
      "-- Autodetected CUDA architecture(s):  7.5\n",
      "-- Configuring done\n",
      "-- Generating done\n",
      "-- Build files have been written to: /content/dlsystems-final-project/build\n",
      "make[1]: Entering directory '/content/dlsystems-final-project/build'\n",
      "make[2]: Entering directory '/content/dlsystems-final-project/build'\n",
      "make[3]: Entering directory '/content/dlsystems-final-project/build'\n",
      "make[3]: Leaving directory '/content/dlsystems-final-project/build'\n",
      "make[3]: Entering directory '/content/dlsystems-final-project/build'\n",
      "[ 25%] \u001B[32mBuilding CXX object CMakeFiles/ndarray_backend_cpu.dir/src/ndarray_backend_cpu.cc.o\u001B[0m\n",
      "[ 50%] \u001B[32m\u001B[1mLinking CXX shared module ../python/needle/backend_ndarray/ndarray_backend_cpu.cpython-38-x86_64-linux-gnu.so\u001B[0m\n",
      "make[3]: Leaving directory '/content/dlsystems-final-project/build'\n",
      "[ 50%] Built target ndarray_backend_cpu\n",
      "make[3]: Entering directory '/content/dlsystems-final-project/build'\n",
      "[ 75%] \u001B[34m\u001B[1mBuilding NVCC (Device) object CMakeFiles/ndarray_backend_cuda.dir/src/ndarray_backend_cuda_generated_ndarray_backend_cuda.cu.o\u001B[0m\n",
      "make[3]: Leaving directory '/content/dlsystems-final-project/build'\n",
      "make[3]: Entering directory '/content/dlsystems-final-project/build'\n",
      "[100%] \u001B[32m\u001B[1mLinking CXX shared module ../python/needle/backend_ndarray/ndarray_backend_cuda.cpython-38-x86_64-linux-gnu.so\u001B[0m\n",
      "make[3]: Leaving directory '/content/dlsystems-final-project/build'\n",
      "[100%] Built target ndarray_backend_cuda\n",
      "make[2]: Leaving directory '/content/dlsystems-final-project/build'\n",
      "make[1]: Leaving directory '/content/dlsystems-final-project/build'\n"
     ]
    }
   ],
   "source": [
    "!git clone https://github.com/Edyarich/dlsystems-final-project\n",
    "%cd dlsystems-final-project\n",
    "!git checkout testing\n",
    "!make"
   ]
  },
  {
   "cell_type": "code",
   "execution_count": 3,
   "id": "128eaac7",
   "metadata": {
    "id": "128eaac7",
    "pycharm": {
     "name": "#%%\n"
    }
   },
   "outputs": [],
   "source": [
    "import sys\n",
    "sys.path.append('./python')"
   ]
  },
  {
   "cell_type": "code",
   "execution_count": 4,
   "id": "lyKKm3w5DYLv",
   "metadata": {
    "colab": {
     "base_uri": "https://localhost:8080/"
    },
    "id": "lyKKm3w5DYLv",
    "outputId": "7cbd5e94-50be-492c-e974-3215eab8337f",
    "pycharm": {
     "name": "#%%\n"
    }
   },
   "outputs": [
    {
     "name": "stdout",
     "output_type": "stream",
     "text": [
      "/home/eduard/git/dlsystems-final-project/data\n",
      "/home/eduard/git/dlsystems-final-project\n"
     ]
    }
   ],
   "source": [
    "# Download the datasets you will be using for this project\n",
    "import os\n",
    "import gdown\n",
    "import importlib\n",
    "from data.utils import rename_and_filter_images\n",
    "import urllib.request\n",
    "\n",
    "\n",
    "%cd ./data\n",
    "DIRNAME = './landscapes/'\n",
    "\n",
    "if not os.path.exists(DIRNAME):\n",
    "    !gdown 14g49ILtIYKLt7WXaRPYyVfJGLHxcnQ7s\n",
    "    !unzip -q landscapes -d landscapes\n",
    "    !rm landscapes.zip\n",
    "\n",
    "    rename_and_filter_images(DIRNAME)\n",
    "\n",
    "%cd ../"
   ]
  },
  {
   "cell_type": "code",
   "execution_count": 5,
   "id": "3e3265df",
   "metadata": {
    "id": "3e3265df",
    "pycharm": {
     "name": "#%%\n"
    },
    "scrolled": false
   },
   "outputs": [],
   "source": [
    "import needle as ndl\n",
    "import needle.nn as nn\n",
    "from needle import array_api, Tensor, NDArray\n",
    "from apps.diffusion import Unet, Diffusion\n",
    "\n",
    "import numpy as np\n",
    "from matplotlib import pyplot as plt\n",
    "from tqdm import tqdm"
   ]
  },
  {
   "cell_type": "code",
   "execution_count": 6,
   "id": "97dc242e",
   "metadata": {
    "colab": {
     "base_uri": "https://localhost:8080/",
     "height": 268
    },
    "id": "97dc242e",
    "outputId": "3b850be3-a48e-4f03-9448-fbdf3b2797e2",
    "pycharm": {
     "name": "#%%\n"
    }
   },
   "outputs": [
    {
     "data": {
      "image/png": "[encoded data removed]",
      "text/plain": [
       "<Figure size 432x288 with 1 Axes>"
      ]
     },
     "metadata": {
      "needs_background": "light"
     },
     "output_type": "display_data"
    }
   ],
   "source": [
    "from pathlib import Path\n",
    "from needle.autograd import Tensor\n",
    "\n",
    "\n",
    "def plot_landscape(img):\n",
    "    img = np.transpose(img, (1, 2, 0))\n",
    "    img = (img + 1) / 2\n",
    "    plt.imshow(img);\n",
    "\n",
    "\n",
    "DATA_DIR = Path('./data/landscapes/')\n",
    "IMAGE_FILES = sorted(str(x) for x in list(DATA_DIR.rglob('*.jpg')))\n",
    "\n",
    "transforms = [\n",
    "    ndl.data.RandomFlipHorizontal(),\n",
    "    ndl.data.Lambda(lambda img: np.transpose(img, (2, 0, 1))),\n",
    "]\n",
    "\n",
    "dataset = ndl.data.LandscapesDataset(\n",
    "    IMAGE_FILES, extra_transforms=transforms, img_size=64\n",
    ")\n",
    "plot_landscape(dataset[1])"
   ]
  },
  {
   "cell_type": "code",
   "execution_count": 7,
   "id": "WnrbEbKpC_51",
   "metadata": {
    "id": "WnrbEbKpC_51",
    "pycharm": {
     "name": "#%%\n"
    }
   },
   "outputs": [],
   "source": [
    "device = ndl.cpu()\n",
    "model = Unet(device=device)\n",
    "optimizer = ndl.optim.Adam(model.parameters(), lr=1e-3)"
   ]
  },
  {
   "cell_type": "code",
   "execution_count": 8,
   "id": "0935d1fb",
   "metadata": {
    "id": "0935d1fb",
    "pycharm": {
     "name": "#%%\n"
    }
   },
   "outputs": [],
   "source": [
    "timesteps = 300\n",
    "module = Diffusion(model, timesteps, loss_type=\"l2\", device=device)"
   ]
  },
  {
   "cell_type": "code",
   "execution_count": 9,
   "id": "c3d078ff",
   "metadata": {
    "id": "c3d078ff",
    "pycharm": {
     "name": "#%%\n"
    }
   },
   "outputs": [],
   "source": [
    "epochs = 1\n",
    "batch_size = 12\n",
    "dataloader = ndl.data.DataLoader(dataset, batch_size)"
   ]
  },
  {
   "cell_type": "code",
   "execution_count": 13,
   "id": "ba83f793",
   "metadata": {
    "colab": {
     "base_uri": "https://localhost:8080/",
     "height": 1000
    },
    "id": "ba83f793",
    "outputId": "64ec028e-2b5f-438e-a39f-f176e5d563ab",
    "pycharm": {
     "name": "#%%\n"
    },
    "scrolled": true
   },
   "outputs": [
    {
     "name": "stderr",
     "output_type": "stream",
     "text": [
      "\r",
      "  0%|          | 0/360 [00:00<?, ?it/s]"
     ]
    },
    {
     "name": "stdout",
     "output_type": "stream",
     "text": [
      "Loss: [1.0858196]\n"
     ]
    },
    {
     "name": "stderr",
     "output_type": "stream",
     "text": [
      "  2%|▎         | 9/360 [00:22<14:20,  2.45s/it]\n"
     ]
    },
    {
     "ename": "RuntimeError",
     "evalue": "ignored",
     "output_type": "error",
     "traceback": [
      "\u001B[0;31m---------------------------------------------------------------------------\u001B[0m",
      "\u001B[0;31mRuntimeError\u001B[0m                              Traceback (most recent call last)",
      "\u001B[0;32m<ipython-input-13-309353b37214>\u001B[0m in \u001B[0;36m<module>\u001B[0;34m\u001B[0m\n\u001B[1;32m     11\u001B[0m             \u001B[0mprint\u001B[0m\u001B[0;34m(\u001B[0m\u001B[0;34m\"Loss:\"\u001B[0m\u001B[0;34m,\u001B[0m \u001B[0mloss\u001B[0m\u001B[0;34m.\u001B[0m\u001B[0mcached_data\u001B[0m\u001B[0;34m[\u001B[0m\u001B[0;36m0\u001B[0m\u001B[0;34m]\u001B[0m\u001B[0;34m)\u001B[0m\u001B[0;34m\u001B[0m\u001B[0;34m\u001B[0m\u001B[0m\n\u001B[1;32m     12\u001B[0m \u001B[0;34m\u001B[0m\u001B[0m\n\u001B[0;32m---> 13\u001B[0;31m         \u001B[0mloss\u001B[0m\u001B[0;34m.\u001B[0m\u001B[0mbackward\u001B[0m\u001B[0;34m(\u001B[0m\u001B[0;34m)\u001B[0m\u001B[0;34m\u001B[0m\u001B[0;34m\u001B[0m\u001B[0m\n\u001B[0m\u001B[1;32m     14\u001B[0m         \u001B[0moptimizer\u001B[0m\u001B[0;34m.\u001B[0m\u001B[0mstep\u001B[0m\u001B[0;34m(\u001B[0m\u001B[0;34m)\u001B[0m\u001B[0;34m\u001B[0m\u001B[0;34m\u001B[0m\u001B[0m\n",
      "\u001B[0;32m/content/dlsystems-final-project/./python/needle/autograd.py\u001B[0m in \u001B[0;36mbackward\u001B[0;34m(self, out_grad)\u001B[0m\n\u001B[1;32m    303\u001B[0m             \u001B[0;32melse\u001B[0m \u001B[0minit\u001B[0m\u001B[0;34m.\u001B[0m\u001B[0mones\u001B[0m\u001B[0;34m(\u001B[0m\u001B[0;34m*\u001B[0m\u001B[0mself\u001B[0m\u001B[0;34m.\u001B[0m\u001B[0mshape\u001B[0m\u001B[0;34m,\u001B[0m \u001B[0mdtype\u001B[0m\u001B[0;34m=\u001B[0m\u001B[0mself\u001B[0m\u001B[0;34m.\u001B[0m\u001B[0mdtype\u001B[0m\u001B[0;34m,\u001B[0m \u001B[0mdevice\u001B[0m\u001B[0;34m=\u001B[0m\u001B[0mself\u001B[0m\u001B[0;34m.\u001B[0m\u001B[0mdevice\u001B[0m\u001B[0;34m)\u001B[0m\u001B[0;34m\u001B[0m\u001B[0;34m\u001B[0m\u001B[0m\n\u001B[1;32m    304\u001B[0m         )\n\u001B[0;32m--> 305\u001B[0;31m         \u001B[0mcompute_gradient_of_variables\u001B[0m\u001B[0;34m(\u001B[0m\u001B[0mself\u001B[0m\u001B[0;34m,\u001B[0m \u001B[0mout_grad\u001B[0m\u001B[0;34m)\u001B[0m\u001B[0;34m\u001B[0m\u001B[0;34m\u001B[0m\u001B[0m\n\u001B[0m\u001B[1;32m    306\u001B[0m \u001B[0;34m\u001B[0m\u001B[0m\n\u001B[1;32m    307\u001B[0m     \u001B[0;32mdef\u001B[0m \u001B[0m__repr__\u001B[0m\u001B[0;34m(\u001B[0m\u001B[0mself\u001B[0m\u001B[0;34m)\u001B[0m\u001B[0;34m:\u001B[0m\u001B[0;34m\u001B[0m\u001B[0;34m\u001B[0m\u001B[0m\n",
      "\u001B[0;32m/content/dlsystems-final-project/./python/needle/autograd.py\u001B[0m in \u001B[0;36mcompute_gradient_of_variables\u001B[0;34m(output_tensor, out_grad)\u001B[0m\n\u001B[1;32m    417\u001B[0m             \u001B[0;32mcontinue\u001B[0m\u001B[0;34m\u001B[0m\u001B[0;34m\u001B[0m\u001B[0m\n\u001B[1;32m    418\u001B[0m \u001B[0;34m\u001B[0m\u001B[0m\n\u001B[0;32m--> 419\u001B[0;31m         \u001B[0mneighb_grads\u001B[0m \u001B[0;34m=\u001B[0m \u001B[0mnode\u001B[0m\u001B[0;34m.\u001B[0m\u001B[0mop\u001B[0m\u001B[0;34m.\u001B[0m\u001B[0mgradient\u001B[0m\u001B[0;34m(\u001B[0m\u001B[0mnode\u001B[0m\u001B[0;34m.\u001B[0m\u001B[0mgrad\u001B[0m\u001B[0;34m,\u001B[0m \u001B[0mnode\u001B[0m\u001B[0;34m)\u001B[0m\u001B[0;34m\u001B[0m\u001B[0;34m\u001B[0m\u001B[0m\n\u001B[0m\u001B[1;32m    420\u001B[0m \u001B[0;34m\u001B[0m\u001B[0m\n\u001B[1;32m    421\u001B[0m         \u001B[0;31m# if type(node.grad) == TensorTuple and len(node.grad) == 1:\u001B[0m\u001B[0;34m\u001B[0m\u001B[0;34m\u001B[0m\u001B[0;34m\u001B[0m\u001B[0m\n",
      "\u001B[0;32m/content/dlsystems-final-project/./python/needle/ops.py\u001B[0m in \u001B[0;36mgradient\u001B[0;34m(self, out_grad, node)\u001B[0m\n\u001B[1;32m    525\u001B[0m             out_grad, node)\n\u001B[1;32m    526\u001B[0m \u001B[0;34m\u001B[0m\u001B[0m\n\u001B[0;32m--> 527\u001B[0;31m         \u001B[0;32mreturn\u001B[0m \u001B[0mgrad_coeff\u001B[0m \u001B[0;34m*\u001B[0m \u001B[0mbroadcasted_grad\u001B[0m \u001B[0;34m*\u001B[0m \u001B[0;34m(\u001B[0m\u001B[0minp\u001B[0m \u001B[0;34m-\u001B[0m \u001B[0minp_mean\u001B[0m\u001B[0;34m)\u001B[0m\u001B[0;34m\u001B[0m\u001B[0;34m\u001B[0m\u001B[0m\n\u001B[0m\u001B[1;32m    528\u001B[0m \u001B[0;34m\u001B[0m\u001B[0m\n\u001B[1;32m    529\u001B[0m \u001B[0;34m\u001B[0m\u001B[0m\n",
      "\u001B[0;32m/content/dlsystems-final-project/./python/needle/autograd.py\u001B[0m in \u001B[0;36m__sub__\u001B[0;34m(self, other)\u001B[0m\n\u001B[1;32m    331\u001B[0m     \u001B[0;32mdef\u001B[0m \u001B[0m__sub__\u001B[0m\u001B[0;34m(\u001B[0m\u001B[0mself\u001B[0m\u001B[0;34m,\u001B[0m \u001B[0mother\u001B[0m\u001B[0;34m)\u001B[0m\u001B[0;34m:\u001B[0m\u001B[0;34m\u001B[0m\u001B[0;34m\u001B[0m\u001B[0m\n\u001B[1;32m    332\u001B[0m         \u001B[0;32mif\u001B[0m \u001B[0misinstance\u001B[0m\u001B[0;34m(\u001B[0m\u001B[0mother\u001B[0m\u001B[0;34m,\u001B[0m \u001B[0mTensor\u001B[0m\u001B[0;34m)\u001B[0m\u001B[0;34m:\u001B[0m\u001B[0;34m\u001B[0m\u001B[0;34m\u001B[0m\u001B[0m\n\u001B[0;32m--> 333\u001B[0;31m             \u001B[0;32mreturn\u001B[0m \u001B[0mneedle\u001B[0m\u001B[0;34m.\u001B[0m\u001B[0mops\u001B[0m\u001B[0;34m.\u001B[0m\u001B[0mEWiseAdd\u001B[0m\u001B[0;34m(\u001B[0m\u001B[0;34m)\u001B[0m\u001B[0;34m(\u001B[0m\u001B[0mself\u001B[0m\u001B[0;34m,\u001B[0m \u001B[0mneedle\u001B[0m\u001B[0;34m.\u001B[0m\u001B[0mops\u001B[0m\u001B[0;34m.\u001B[0m\u001B[0mNegate\u001B[0m\u001B[0;34m(\u001B[0m\u001B[0;34m)\u001B[0m\u001B[0;34m(\u001B[0m\u001B[0mother\u001B[0m\u001B[0;34m)\u001B[0m\u001B[0;34m)\u001B[0m\u001B[0;34m\u001B[0m\u001B[0;34m\u001B[0m\u001B[0m\n\u001B[0m\u001B[1;32m    334\u001B[0m         \u001B[0;32melse\u001B[0m\u001B[0;34m:\u001B[0m\u001B[0;34m\u001B[0m\u001B[0;34m\u001B[0m\u001B[0m\n\u001B[1;32m    335\u001B[0m             \u001B[0;32mreturn\u001B[0m \u001B[0mneedle\u001B[0m\u001B[0;34m.\u001B[0m\u001B[0mops\u001B[0m\u001B[0;34m.\u001B[0m\u001B[0mAddScalar\u001B[0m\u001B[0;34m(\u001B[0m\u001B[0;34m-\u001B[0m\u001B[0mother\u001B[0m\u001B[0;34m)\u001B[0m\u001B[0;34m(\u001B[0m\u001B[0mself\u001B[0m\u001B[0;34m)\u001B[0m\u001B[0;34m\u001B[0m\u001B[0;34m\u001B[0m\u001B[0m\n",
      "\u001B[0;32m/content/dlsystems-final-project/./python/needle/autograd.py\u001B[0m in \u001B[0;36m__call__\u001B[0;34m(self, *args)\u001B[0m\n\u001B[1;32m     72\u001B[0m \u001B[0;34m\u001B[0m\u001B[0m\n\u001B[1;32m     73\u001B[0m     \u001B[0;32mdef\u001B[0m \u001B[0m__call__\u001B[0m\u001B[0;34m(\u001B[0m\u001B[0mself\u001B[0m\u001B[0;34m,\u001B[0m \u001B[0;34m*\u001B[0m\u001B[0margs\u001B[0m\u001B[0;34m)\u001B[0m\u001B[0;34m:\u001B[0m\u001B[0;34m\u001B[0m\u001B[0;34m\u001B[0m\u001B[0m\n\u001B[0;32m---> 74\u001B[0;31m         \u001B[0;32mreturn\u001B[0m \u001B[0mTensor\u001B[0m\u001B[0;34m.\u001B[0m\u001B[0mmake_from_op\u001B[0m\u001B[0;34m(\u001B[0m\u001B[0mself\u001B[0m\u001B[0;34m,\u001B[0m \u001B[0margs\u001B[0m\u001B[0;34m)\u001B[0m\u001B[0;34m\u001B[0m\u001B[0;34m\u001B[0m\u001B[0m\n\u001B[0m\u001B[1;32m     75\u001B[0m \u001B[0;34m\u001B[0m\u001B[0m\n\u001B[1;32m     76\u001B[0m \u001B[0;34m\u001B[0m\u001B[0m\n",
      "\u001B[0;32m/content/dlsystems-final-project/./python/needle/autograd.py\u001B[0m in \u001B[0;36mmake_from_op\u001B[0;34m(op, inputs)\u001B[0m\n\u001B[1;32m    241\u001B[0m             \u001B[0;32mif\u001B[0m \u001B[0;32mnot\u001B[0m \u001B[0mtensor\u001B[0m\u001B[0;34m.\u001B[0m\u001B[0mrequires_grad\u001B[0m\u001B[0;34m:\u001B[0m\u001B[0;34m\u001B[0m\u001B[0;34m\u001B[0m\u001B[0m\n\u001B[1;32m    242\u001B[0m                 \u001B[0;32mreturn\u001B[0m \u001B[0mtensor\u001B[0m\u001B[0;34m.\u001B[0m\u001B[0mdetach\u001B[0m\u001B[0;34m(\u001B[0m\u001B[0;34m)\u001B[0m\u001B[0;34m\u001B[0m\u001B[0;34m\u001B[0m\u001B[0m\n\u001B[0;32m--> 243\u001B[0;31m             \u001B[0mtensor\u001B[0m\u001B[0;34m.\u001B[0m\u001B[0mrealize_cached_data\u001B[0m\u001B[0;34m(\u001B[0m\u001B[0;34m)\u001B[0m\u001B[0;34m\u001B[0m\u001B[0;34m\u001B[0m\u001B[0m\n\u001B[0m\u001B[1;32m    244\u001B[0m         \u001B[0;32mreturn\u001B[0m \u001B[0mtensor\u001B[0m\u001B[0;34m\u001B[0m\u001B[0;34m\u001B[0m\u001B[0m\n\u001B[1;32m    245\u001B[0m \u001B[0;34m\u001B[0m\u001B[0m\n",
      "\u001B[0;32m/content/dlsystems-final-project/./python/needle/autograd.py\u001B[0m in \u001B[0;36mrealize_cached_data\u001B[0;34m(self)\u001B[0m\n\u001B[1;32m     99\u001B[0m             \u001B[0;32mreturn\u001B[0m \u001B[0mself\u001B[0m\u001B[0;34m.\u001B[0m\u001B[0mcached_data\u001B[0m\u001B[0;34m\u001B[0m\u001B[0;34m\u001B[0m\u001B[0m\n\u001B[1;32m    100\u001B[0m         \u001B[0;31m# note: data implicitly calls realized cached data\u001B[0m\u001B[0;34m\u001B[0m\u001B[0;34m\u001B[0m\u001B[0;34m\u001B[0m\u001B[0m\n\u001B[0;32m--> 101\u001B[0;31m         self.cached_data = self.op.compute(\n\u001B[0m\u001B[1;32m    102\u001B[0m             \u001B[0;34m*\u001B[0m\u001B[0;34m[\u001B[0m\u001B[0mx\u001B[0m\u001B[0;34m.\u001B[0m\u001B[0mrealize_cached_data\u001B[0m\u001B[0;34m(\u001B[0m\u001B[0;34m)\u001B[0m \u001B[0;32mfor\u001B[0m \u001B[0mx\u001B[0m \u001B[0;32min\u001B[0m \u001B[0mself\u001B[0m\u001B[0;34m.\u001B[0m\u001B[0minputs\u001B[0m\u001B[0;34m]\u001B[0m\u001B[0;34m\u001B[0m\u001B[0;34m\u001B[0m\u001B[0m\n\u001B[1;32m    103\u001B[0m         )\n",
      "\u001B[0;32m/content/dlsystems-final-project/./python/needle/ops.py\u001B[0m in \u001B[0;36mcompute\u001B[0;34m(self, a)\u001B[0m\n\u001B[1;32m    385\u001B[0m \u001B[0;32mclass\u001B[0m \u001B[0mNegate\u001B[0m\u001B[0;34m(\u001B[0m\u001B[0mTensorOp\u001B[0m\u001B[0;34m)\u001B[0m\u001B[0;34m:\u001B[0m\u001B[0;34m\u001B[0m\u001B[0;34m\u001B[0m\u001B[0m\n\u001B[1;32m    386\u001B[0m     \u001B[0;32mdef\u001B[0m \u001B[0mcompute\u001B[0m\u001B[0;34m(\u001B[0m\u001B[0mself\u001B[0m\u001B[0;34m,\u001B[0m \u001B[0ma\u001B[0m\u001B[0;34m)\u001B[0m\u001B[0;34m:\u001B[0m\u001B[0;34m\u001B[0m\u001B[0;34m\u001B[0m\u001B[0m\n\u001B[0;32m--> 387\u001B[0;31m         \u001B[0;32mreturn\u001B[0m \u001B[0;34m-\u001B[0m\u001B[0ma\u001B[0m\u001B[0;34m\u001B[0m\u001B[0;34m\u001B[0m\u001B[0m\n\u001B[0m\u001B[1;32m    388\u001B[0m \u001B[0;34m\u001B[0m\u001B[0m\n\u001B[1;32m    389\u001B[0m     \u001B[0;32mdef\u001B[0m \u001B[0mgradient\u001B[0m\u001B[0;34m(\u001B[0m\u001B[0mself\u001B[0m\u001B[0;34m,\u001B[0m \u001B[0mout_grad\u001B[0m\u001B[0;34m,\u001B[0m \u001B[0mnode\u001B[0m\u001B[0;34m)\u001B[0m\u001B[0;34m:\u001B[0m\u001B[0;34m\u001B[0m\u001B[0;34m\u001B[0m\u001B[0m\n",
      "\u001B[0;32m/content/dlsystems-final-project/./python/needle/backend_ndarray/ndarray.py\u001B[0m in \u001B[0;36m__neg__\u001B[0;34m(self)\u001B[0m\n\u001B[1;32m    505\u001B[0m \u001B[0;34m\u001B[0m\u001B[0m\n\u001B[1;32m    506\u001B[0m     \u001B[0;32mdef\u001B[0m \u001B[0m__neg__\u001B[0m\u001B[0;34m(\u001B[0m\u001B[0mself\u001B[0m\u001B[0;34m)\u001B[0m\u001B[0;34m:\u001B[0m\u001B[0;34m\u001B[0m\u001B[0;34m\u001B[0m\u001B[0m\n\u001B[0;32m--> 507\u001B[0;31m         \u001B[0;32mreturn\u001B[0m \u001B[0mself\u001B[0m \u001B[0;34m*\u001B[0m \u001B[0;34m(\u001B[0m\u001B[0;34m-\u001B[0m\u001B[0;36m1\u001B[0m\u001B[0;34m)\u001B[0m\u001B[0;34m\u001B[0m\u001B[0;34m\u001B[0m\u001B[0m\n\u001B[0m\u001B[1;32m    508\u001B[0m \u001B[0;34m\u001B[0m\u001B[0m\n\u001B[1;32m    509\u001B[0m     \u001B[0;32mdef\u001B[0m \u001B[0m__pow__\u001B[0m\u001B[0;34m(\u001B[0m\u001B[0mself\u001B[0m\u001B[0;34m,\u001B[0m \u001B[0mother\u001B[0m\u001B[0;34m)\u001B[0m\u001B[0;34m:\u001B[0m\u001B[0;34m\u001B[0m\u001B[0;34m\u001B[0m\u001B[0m\n",
      "\u001B[0;32m/content/dlsystems-final-project/./python/needle/backend_ndarray/ndarray.py\u001B[0m in \u001B[0;36m__mul__\u001B[0;34m(self, other)\u001B[0m\n\u001B[1;32m    490\u001B[0m \u001B[0;34m\u001B[0m\u001B[0m\n\u001B[1;32m    491\u001B[0m     \u001B[0;32mdef\u001B[0m \u001B[0m__mul__\u001B[0m\u001B[0;34m(\u001B[0m\u001B[0mself\u001B[0m\u001B[0;34m,\u001B[0m \u001B[0mother\u001B[0m\u001B[0;34m)\u001B[0m\u001B[0;34m:\u001B[0m\u001B[0;34m\u001B[0m\u001B[0;34m\u001B[0m\u001B[0m\n\u001B[0;32m--> 492\u001B[0;31m         return self.ewise_or_scalar(\n\u001B[0m\u001B[1;32m    493\u001B[0m             \u001B[0mother\u001B[0m\u001B[0;34m,\u001B[0m \u001B[0mself\u001B[0m\u001B[0;34m.\u001B[0m\u001B[0mdevice\u001B[0m\u001B[0;34m.\u001B[0m\u001B[0mewise_mul\u001B[0m\u001B[0;34m,\u001B[0m \u001B[0mself\u001B[0m\u001B[0;34m.\u001B[0m\u001B[0mdevice\u001B[0m\u001B[0;34m.\u001B[0m\u001B[0mscalar_mul\u001B[0m\u001B[0;34m\u001B[0m\u001B[0;34m\u001B[0m\u001B[0m\n\u001B[1;32m    494\u001B[0m         )\n",
      "\u001B[0;32m/content/dlsystems-final-project/./python/needle/backend_ndarray/ndarray.py\u001B[0m in \u001B[0;36mewise_or_scalar\u001B[0;34m(self, other, ewise_func, scalar_func)\u001B[0m\n\u001B[1;32m    473\u001B[0m             \u001B[0mewise_func\u001B[0m\u001B[0;34m(\u001B[0m\u001B[0mself\u001B[0m\u001B[0;34m.\u001B[0m\u001B[0mcompact\u001B[0m\u001B[0;34m(\u001B[0m\u001B[0;34m)\u001B[0m\u001B[0;34m.\u001B[0m\u001B[0m_handle\u001B[0m\u001B[0;34m,\u001B[0m \u001B[0mother\u001B[0m\u001B[0;34m.\u001B[0m\u001B[0mcompact\u001B[0m\u001B[0;34m(\u001B[0m\u001B[0;34m)\u001B[0m\u001B[0;34m.\u001B[0m\u001B[0m_handle\u001B[0m\u001B[0;34m,\u001B[0m \u001B[0mout\u001B[0m\u001B[0;34m.\u001B[0m\u001B[0m_handle\u001B[0m\u001B[0;34m)\u001B[0m\u001B[0;34m\u001B[0m\u001B[0;34m\u001B[0m\u001B[0m\n\u001B[1;32m    474\u001B[0m         \u001B[0;32melse\u001B[0m\u001B[0;34m:\u001B[0m\u001B[0;34m\u001B[0m\u001B[0;34m\u001B[0m\u001B[0m\n\u001B[0;32m--> 475\u001B[0;31m             \u001B[0mscalar_func\u001B[0m\u001B[0;34m(\u001B[0m\u001B[0mself\u001B[0m\u001B[0;34m.\u001B[0m\u001B[0mcompact\u001B[0m\u001B[0;34m(\u001B[0m\u001B[0;34m)\u001B[0m\u001B[0;34m.\u001B[0m\u001B[0m_handle\u001B[0m\u001B[0;34m,\u001B[0m \u001B[0mother\u001B[0m\u001B[0;34m,\u001B[0m \u001B[0mout\u001B[0m\u001B[0;34m.\u001B[0m\u001B[0m_handle\u001B[0m\u001B[0;34m)\u001B[0m\u001B[0;34m\u001B[0m\u001B[0;34m\u001B[0m\u001B[0m\n\u001B[0m\u001B[1;32m    476\u001B[0m         \u001B[0;32mreturn\u001B[0m \u001B[0mout\u001B[0m\u001B[0;34m\u001B[0m\u001B[0;34m\u001B[0m\u001B[0m\n\u001B[1;32m    477\u001B[0m \u001B[0;34m\u001B[0m\u001B[0m\n",
      "\u001B[0;32m/content/dlsystems-final-project/./python/needle/backend_ndarray/ndarray.py\u001B[0m in \u001B[0;36mcompact\u001B[0;34m(self)\u001B[0m\n\u001B[1;32m    212\u001B[0m             \u001B[0;32mreturn\u001B[0m \u001B[0mself\u001B[0m\u001B[0;34m\u001B[0m\u001B[0;34m\u001B[0m\u001B[0m\n\u001B[1;32m    213\u001B[0m         \u001B[0;32melse\u001B[0m\u001B[0;34m:\u001B[0m\u001B[0;34m\u001B[0m\u001B[0;34m\u001B[0m\u001B[0m\n\u001B[0;32m--> 214\u001B[0;31m             \u001B[0mout\u001B[0m \u001B[0;34m=\u001B[0m \u001B[0mNDArray\u001B[0m\u001B[0;34m.\u001B[0m\u001B[0mmake\u001B[0m\u001B[0;34m(\u001B[0m\u001B[0mself\u001B[0m\u001B[0;34m.\u001B[0m\u001B[0mshape\u001B[0m\u001B[0;34m,\u001B[0m \u001B[0mdevice\u001B[0m\u001B[0;34m=\u001B[0m\u001B[0mself\u001B[0m\u001B[0;34m.\u001B[0m\u001B[0mdevice\u001B[0m\u001B[0;34m)\u001B[0m\u001B[0;34m\u001B[0m\u001B[0;34m\u001B[0m\u001B[0m\n\u001B[0m\u001B[1;32m    215\u001B[0m             self.device.compact(\n\u001B[1;32m    216\u001B[0m                 \u001B[0mself\u001B[0m\u001B[0;34m.\u001B[0m\u001B[0m_handle\u001B[0m\u001B[0;34m,\u001B[0m \u001B[0mout\u001B[0m\u001B[0;34m.\u001B[0m\u001B[0m_handle\u001B[0m\u001B[0;34m,\u001B[0m \u001B[0mself\u001B[0m\u001B[0;34m.\u001B[0m\u001B[0mshape\u001B[0m\u001B[0;34m,\u001B[0m \u001B[0mself\u001B[0m\u001B[0;34m.\u001B[0m\u001B[0mstrides\u001B[0m\u001B[0;34m,\u001B[0m \u001B[0mself\u001B[0m\u001B[0;34m.\u001B[0m\u001B[0m_offset\u001B[0m\u001B[0;34m\u001B[0m\u001B[0;34m\u001B[0m\u001B[0m\n",
      "\u001B[0;32m/content/dlsystems-final-project/./python/needle/backend_ndarray/ndarray.py\u001B[0m in \u001B[0;36mmake\u001B[0;34m(shape, strides, device, handle, offset)\u001B[0m\n\u001B[1;32m    143\u001B[0m         \u001B[0marray\u001B[0m\u001B[0;34m.\u001B[0m\u001B[0m_device\u001B[0m \u001B[0;34m=\u001B[0m \u001B[0mdevice\u001B[0m \u001B[0;32mif\u001B[0m \u001B[0mdevice\u001B[0m \u001B[0;32mis\u001B[0m \u001B[0;32mnot\u001B[0m \u001B[0;32mNone\u001B[0m \u001B[0;32melse\u001B[0m \u001B[0mdefault_device\u001B[0m\u001B[0;34m(\u001B[0m\u001B[0;34m)\u001B[0m\u001B[0;34m\u001B[0m\u001B[0;34m\u001B[0m\u001B[0m\n\u001B[1;32m    144\u001B[0m         \u001B[0;32mif\u001B[0m \u001B[0mhandle\u001B[0m \u001B[0;32mis\u001B[0m \u001B[0;32mNone\u001B[0m\u001B[0;34m:\u001B[0m\u001B[0;34m\u001B[0m\u001B[0;34m\u001B[0m\u001B[0m\n\u001B[0;32m--> 145\u001B[0;31m             \u001B[0marray\u001B[0m\u001B[0;34m.\u001B[0m\u001B[0m_handle\u001B[0m \u001B[0;34m=\u001B[0m \u001B[0marray\u001B[0m\u001B[0;34m.\u001B[0m\u001B[0mdevice\u001B[0m\u001B[0;34m.\u001B[0m\u001B[0mArray\u001B[0m\u001B[0;34m(\u001B[0m\u001B[0mprod\u001B[0m\u001B[0;34m(\u001B[0m\u001B[0mshape\u001B[0m\u001B[0;34m)\u001B[0m\u001B[0;34m)\u001B[0m\u001B[0;34m\u001B[0m\u001B[0;34m\u001B[0m\u001B[0m\n\u001B[0m\u001B[1;32m    146\u001B[0m         \u001B[0;32melse\u001B[0m\u001B[0;34m:\u001B[0m\u001B[0;34m\u001B[0m\u001B[0;34m\u001B[0m\u001B[0m\n\u001B[1;32m    147\u001B[0m             \u001B[0marray\u001B[0m\u001B[0;34m.\u001B[0m\u001B[0m_handle\u001B[0m \u001B[0;34m=\u001B[0m \u001B[0mhandle\u001B[0m\u001B[0;34m\u001B[0m\u001B[0;34m\u001B[0m\u001B[0m\n",
      "\u001B[0;31mRuntimeError\u001B[0m: out of memory"
     ]
    }
   ],
   "source": [
    "for epoch in range(epochs):\n",
    "    for step, batch in enumerate(tqdm(dataloader)):\n",
    "        # Algorithm 1 line 3: sample t uniformally for every example in the batch\n",
    "        optimizer.reset_grad()\n",
    "        batch = ndl.Tensor(batch, device=device)\n",
    "        t = Tensor(np.random.randint(0, timesteps, (len(batch),)),\n",
    "                   device=device,\n",
    "                   requires_grad=False)\n",
    "\n",
    "        loss = module.p_losses(batch, t)\n",
    "\n",
    "        if step % 100 == 0:\n",
    "            print(\"Loss:\", loss.cached_data[0])\n",
    "\n",
    "        loss.backward()\n",
    "        optimizer.step()"
   ]
  }
 ],
 "metadata": {
  "accelerator": "GPU",
  "colab": {
   "provenance": []
  },
  "gpuClass": "standard",
  "kernelspec": {
   "display_name": "Python 3 (ipykernel)",
   "language": "python",
   "name": "python3"
  },
  "language_info": {
   "codemirror_mode": {
    "name": "ipython",
    "version": 3
   },
   "file_extension": ".py",
   "mimetype": "text/x-python",
   "name": "python",
   "nbconvert_exporter": "python",
   "pygments_lexer": "ipython3",
   "version": "3.9.13"
  }
 },
 "nbformat": 4,
 "nbformat_minor": 5
}