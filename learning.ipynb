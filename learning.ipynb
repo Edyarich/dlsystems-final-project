{
 "cells": [
  {
   "cell_type": "code",
   "execution_count": 1,
   "id": "13cce497",
   "metadata": {},
   "outputs": [],
   "source": [
    "import sys\n",
    "sys.path.append('./python')"
   ]
  },
  {
   "cell_type": "code",
   "execution_count": 2,
   "id": "3d120534",
   "metadata": {
    "scrolled": false
   },
   "outputs": [],
   "source": [
    "import needle as ndl\n",
    "import needle.nn as nn\n",
    "from needle import array_api, Tensor, NDArray\n",
    "import numpy as np\n",
    "from matplotlib import pyplot as plt"
   ]
  },
  {
   "cell_type": "code",
   "execution_count": 3,
   "id": "b5d0e27c",
   "metadata": {},
   "outputs": [],
   "source": [
    "device = ndl.cpu()\n",
    "model = nn.Unet(device=device)\n",
    "optimizer = ndl.optim.Adam(model.parameters(), lr=1e-3)"
   ]
  },
  {
   "cell_type": "code",
   "execution_count": 4,
   "id": "e4d36bdc",
   "metadata": {},
   "outputs": [
    {
     "data": {
      "image/png": "[encoded data removed]",
      "text/plain": [
       "<Figure size 432x288 with 1 Axes>"
      ]
     },
     "metadata": {
      "needs_background": "light"
     },
     "output_type": "display_data"
    }
   ],
   "source": [
    "from pathlib import Path\n",
    "from needle.autograd import Tensor\n",
    "\n",
    "\n",
    "def plot_landscape(img):\n",
    "    img = np.transpose(img, (1, 2, 0))\n",
    "    img = (img + 1) / 2\n",
    "    plt.imshow(img);\n",
    "\n",
    "\n",
    "DATA_DIR = Path('./data/landscapes/')\n",
    "IMAGE_FILES = sorted(str(x) for x in list(DATA_DIR.rglob('*.jpg')))\n",
    "\n",
    "transforms = [\n",
    "    ndl.data.RandomFlipHorizontal(),\n",
    "    ndl.data.Lambda(lambda img: np.transpose(img, (2, 0, 1))),\n",
    "]\n",
    "\n",
    "dataset = ndl.data.LandscapesDataset(\n",
    "    IMAGE_FILES, extra_transforms=transforms, img_size=64\n",
    ")\n",
    "plot_landscape(dataset[12])"
   ]
  },
  {
   "cell_type": "code",
   "execution_count": 5,
   "id": "fcd8df5e",
   "metadata": {},
   "outputs": [],
   "source": [
    "timesteps = 300\n",
    "module = nn.Diffusion(model, optimizer, timesteps, loss_type=\"l2\", device=device)"
   ]
  },
  {
   "cell_type": "code",
   "execution_count": 6,
   "id": "aef74c8d",
   "metadata": {},
   "outputs": [],
   "source": [
    "epochs = 1\n",
    "batch_size = 16\n",
    "dataloader = ndl.data.DataLoader(dataset, batch_size)\n",
    "device=ndl.cpu()"
   ]
  },
  {
   "cell_type": "code",
   "execution_count": 7,
   "id": "67abc019",
   "metadata": {
    "scrolled": true
   },
   "outputs": [
    {
     "name": "stdout",
     "output_type": "stream",
     "text": [
      "(16, 3, 64, 64) <-- x0 shape\n",
      "(16, 1, 1, 1) <---- extract shape\n",
      "Array is not compact\n",
      "H.shape = (16, 64, 64, 64)\n",
      "time_emb.shape = (16, 64, 64, 64)\n",
      "Array is not compact\n",
      "Array is not compact\n",
      "H.shape = (16, 128, 32, 32)\n",
      "time_emb.shape = (16, 128, 32, 32)\n",
      "Array is not compact\n",
      "Array is not compact\n",
      "H.shape = (16, 256, 16, 16)\n",
      "time_emb.shape = (16, 256, 16, 16)\n",
      "Array is not compact\n",
      "Array is not compact\n",
      "H.shape = (16, 512, 8, 8)\n",
      "time_emb.shape = (16, 512, 8, 8)\n",
      "Array is not compact\n",
      "(16, 512, 4, 4) (16, 512, 4, 4)\n",
      "Array is not compact\n",
      "H.shape = (16, 256, 4, 4)\n",
      "time_emb.shape = (16, 256, 4, 4)\n",
      "Array is not compact\n",
      "(16, 256, 8, 8) (16, 256, 8, 8)\n",
      "Array is not compact\n",
      "H.shape = (16, 128, 8, 8)\n",
      "time_emb.shape = (16, 128, 8, 8)\n",
      "Array is not compact\n",
      "(16, 128, 16, 16) (16, 128, 16, 16)\n",
      "Array is not compact\n",
      "H.shape = (16, 64, 16, 16)\n",
      "time_emb.shape = (16, 64, 16, 16)\n",
      "Array is not compact\n",
      "(16, 64, 32, 32) (16, 64, 32, 32)\n",
      "Array is not compact\n",
      "H.shape = (16, 32, 32, 32)\n",
      "time_emb.shape = (16, 32, 32, 32)\n",
      "Array is not compact\n"
     ]
    },
    {
     "ename": "AttributeError",
     "evalue": "'Tensor' object has no attribute 'item'",
     "output_type": "error",
     "traceback": [
      "\u001b[0;31m---------------------------------------------------------------------------\u001b[0m",
      "\u001b[0;31mAttributeError\u001b[0m                            Traceback (most recent call last)",
      "\u001b[0;32m/tmp/ipykernel_16062/3711534328.py\u001b[0m in \u001b[0;36m<module>\u001b[0;34m\u001b[0m\n\u001b[1;32m      8\u001b[0m \u001b[0;34m\u001b[0m\u001b[0m\n\u001b[1;32m      9\u001b[0m         \u001b[0;32mif\u001b[0m \u001b[0mstep\u001b[0m \u001b[0;34m%\u001b[0m \u001b[0;36m100\u001b[0m \u001b[0;34m==\u001b[0m \u001b[0;36m0\u001b[0m\u001b[0;34m:\u001b[0m\u001b[0;34m\u001b[0m\u001b[0;34m\u001b[0m\u001b[0m\n\u001b[0;32m---> 10\u001b[0;31m             \u001b[0mprint\u001b[0m\u001b[0;34m(\u001b[0m\u001b[0;34m\"Loss:\"\u001b[0m\u001b[0;34m,\u001b[0m \u001b[0mloss\u001b[0m\u001b[0;34m.\u001b[0m\u001b[0mitem\u001b[0m\u001b[0;34m(\u001b[0m\u001b[0;34m)\u001b[0m\u001b[0;34m)\u001b[0m\u001b[0;34m\u001b[0m\u001b[0;34m\u001b[0m\u001b[0m\n\u001b[0m\u001b[1;32m     11\u001b[0m \u001b[0;34m\u001b[0m\u001b[0m\n\u001b[1;32m     12\u001b[0m         \u001b[0mloss\u001b[0m\u001b[0;34m.\u001b[0m\u001b[0mbackward\u001b[0m\u001b[0;34m(\u001b[0m\u001b[0;34m)\u001b[0m\u001b[0;34m\u001b[0m\u001b[0;34m\u001b[0m\u001b[0m\n",
      "\u001b[0;31mAttributeError\u001b[0m: 'Tensor' object has no attribute 'item'"
     ]
    }
   ],
   "source": [
    "for epoch in range(epochs):\n",
    "    for step, batch in enumerate(dataloader):\n",
    "        # Algorithm 1 line 3: sample t uniformally for every example in the batch\n",
    "        batch = ndl.Tensor(batch, device=device)\n",
    "        t = Tensor(np.random.randint(0, timesteps, (batch_size,)), device=device)\n",
    "\n",
    "        loss = module.p_losses(batch, t)\n",
    "\n",
    "        if step % 100 == 0:\n",
    "            print(\"Loss:\", loss.cached_data[0])\n",
    "\n",
    "        loss.backward()\n",
    "        module.optimizer.step()"
   ]
  }
 ],
 "metadata": {
  "kernelspec": {
   "display_name": "Python 3 (ipykernel)",
   "language": "python",
   "name": "python3"
  },
  "language_info": {
   "codemirror_mode": {
    "name": "ipython",
    "version": 3
   },
   "file_extension": ".py",
   "mimetype": "text/x-python",
   "name": "python",
   "nbconvert_exporter": "python",
   "pygments_lexer": "ipython3",
   "version": "3.9.13"
  }
 },
 "nbformat": 4,
 "nbformat_minor": 5
}
